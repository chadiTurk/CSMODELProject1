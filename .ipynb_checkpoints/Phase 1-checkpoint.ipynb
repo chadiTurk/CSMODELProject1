{
 "cells": [
  {
   "cell_type": "markdown",
   "id": "71e2c656",
   "metadata": {},
   "source": [
    "# Video Game Sales By G26\n",
    "This dataset contains a list of video games with sales greater than 100,000 copies. The fields include a ranking of overall sales, the name of the video game, the platform it was released on, the year it was released, genre of the game, publisher of the game, North American sales, European sales, Japanese sales, sales from the rest of the world and global sales, all of which are counted in terms in millions.\n",
    "\n",
    "This dataset includes categorical data such as the name of the video game, the video game’s platform, genre, and publisher as well as numerical data such as its sales across the globe and its total global sales.\n",
    "\n",
    "\n"
   ]
  },
  {
   "cell_type": "markdown",
   "id": "3029d90a",
   "metadata": {},
   "source": [
    "## Collection Process\n",
    "The dataset used was collected using a scraping script obtained from “https://github.com/GregorUT/vgchartzScrape,” which was then published on https://www.kaggle.com/gregorut/videogamesales where we obtained the dataset. Due to how the data from vgchartz is gathered there may be some discrepancies to the actual sales of the game. The dataset shows how much a game has sold for a specific platform, games with several platforms appear in the dataset multiple times."
   ]
  },
  {
   "cell_type": "markdown",
   "id": "6aa18758",
   "metadata": {},
   "source": [
    "### Data Implications"
   ]
  },
  {
   "cell_type": "markdown",
   "id": "c9862448",
   "metadata": {},
   "source": [
    "### Imported Libraries"
   ]
  },
  {
   "cell_type": "code",
   "execution_count": 1,
   "id": "6d37d106",
   "metadata": {},
   "outputs": [],
   "source": [
    "import numpy as np\n",
    "import pandas as pd\n",
    "import matplotlib.pyplot as plt"
   ]
  },
  {
   "cell_type": "markdown",
   "id": "87925b9e",
   "metadata": {},
   "source": [
    "### Video Game Data\n",
    "Each row in the dataset represents a particular video game released on or before the year 2020. Each column represents There are a total of 16,598 observations in the dataset and 11 variables. The dataset is composed of only a single csv file hence no merging is needed."
   ]
  },
  {
   "cell_type": "code",
   "execution_count": 2,
   "id": "4751eede",
   "metadata": {},
   "outputs": [],
   "source": [
    "games = pd.read_csv('vgsales.csv')"
   ]
  },
  {
   "cell_type": "markdown",
   "id": "463c7a47",
   "metadata": {},
   "source": [
    "If the csv file is viewed in Excel. One can see the dataset contains 16,598 observations and 11 variables. The following are the descriptions for each variable.\n",
    "- Rank - Ranking of overall sales\n",
    "- Name - The games name\n",
    "- Platform - Platform of the games release (i.e. PC,PS4, etc.)\n",
    "- Year - Year of the game's release\n",
    "- Genre - Genre of the game\n",
    "- Publisher - Publisher of the game\n",
    "- NA_Sales - Sales in North America (in millions)\n",
    "- EU_Sales - Sales in Europe (in millions)\n",
    "- JP_Sales - Sales in Japan (in millions)\n",
    "- Other_Sales - Sales in the rest of the world (in millions)\n",
    "- Global_Sales - Total worldwide sales.\n"
   ]
  },
  {
   "cell_type": "code",
   "execution_count": 3,
   "id": "340d60fd",
   "metadata": {},
   "outputs": [
    {
     "name": "stdout",
     "output_type": "stream",
     "text": [
      "<class 'pandas.core.frame.DataFrame'>\n",
      "RangeIndex: 16598 entries, 0 to 16597\n",
      "Data columns (total 11 columns):\n",
      " #   Column        Non-Null Count  Dtype  \n",
      "---  ------        --------------  -----  \n",
      " 0   Rank          16598 non-null  int64  \n",
      " 1   Name          16598 non-null  object \n",
      " 2   Platform      16598 non-null  object \n",
      " 3   Year          16327 non-null  float64\n",
      " 4   Genre         16598 non-null  object \n",
      " 5   Publisher     16540 non-null  object \n",
      " 6   NA_Sales      16598 non-null  float64\n",
      " 7   EU_Sales      16598 non-null  float64\n",
      " 8   JP_Sales      16598 non-null  float64\n",
      " 9   Other_Sales   16598 non-null  float64\n",
      " 10  Global_Sales  16598 non-null  float64\n",
      "dtypes: float64(6), int64(1), object(4)\n",
      "memory usage: 1.4+ MB\n"
     ]
    }
   ],
   "source": [
    "games.info()"
   ]
  },
  {
   "cell_type": "code",
   "execution_count": 4,
   "id": "61e4f368",
   "metadata": {},
   "outputs": [
    {
     "data": {
      "text/plain": [
       "Rank            False\n",
       "Name            False\n",
       "Platform        False\n",
       "Year             True\n",
       "Genre           False\n",
       "Publisher        True\n",
       "NA_Sales        False\n",
       "EU_Sales        False\n",
       "JP_Sales        False\n",
       "Other_Sales     False\n",
       "Global_Sales    False\n",
       "dtype: bool"
      ]
     },
     "execution_count": 4,
     "metadata": {},
     "output_type": "execute_result"
    }
   ],
   "source": [
    "games.isnull().any()"
   ]
  },
  {
   "cell_type": "code",
   "execution_count": null,
   "id": "d4e2cc61",
   "metadata": {},
   "outputs": [],
   "source": [
    "# null = games.columns[games.isnull().any()].tolist()\n",
    "games[null].isnull().sum()"
   ]
  }
 ],
 "metadata": {
  "kernelspec": {
   "display_name": "Python 3",
   "language": "python",
   "name": "python3"
  },
  "language_info": {
   "codemirror_mode": {
    "name": "ipython",
    "version": 3
   },
   "file_extension": ".py",
   "mimetype": "text/x-python",
   "name": "python",
   "nbconvert_exporter": "python",
   "pygments_lexer": "ipython3",
   "version": "3.9.4"
  }
 },
 "nbformat": 4,
 "nbformat_minor": 5
}
