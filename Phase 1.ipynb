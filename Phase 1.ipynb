{
 "cells": [
  {
   "cell_type": "markdown",
   "source": "# Video Game Sales By G26\nThis dataset contains a list of video games with sales greater than 100,000 copies. The fields include a ranking of overall sales, the name of the video game, the platform it was released on, the year it was released, genre of the game, publisher of the game, North American sales, European sales, Japanese sales, sales from the rest of the world and global sales, all of which are counted in terms in millions.\n\nThis dataset includes categorical data such as the name of the video game, the video game’s platform, genre, and publisher as well as numerical data such as its sales across the globe and its total global sales.\n\n\n",
   "metadata": {
    "cell_id": "00000-8c9b1839-2b3a-43fb-a0b9-d6b94e3c6cc0",
    "deepnote_cell_type": "markdown"
   }
  },
  {
   "cell_type": "markdown",
   "source": "## Collection Process\nThe dataset used was collected using a scraping script obtained from [Github](https://github.com/GregorUT/vgchartzScrape), which was then published on [Kaggle](https://www.kaggle.com/gregorut/videogamesales) where we obtained the dataset. Due to how the data from vgchartz is gathered there may be some discrepancies to the actual sales of the game. The dataset shows how much a game has sold for a specific platform, games with several platforms appear in the dataset multiple times.",
   "metadata": {
    "cell_id": "00001-2b2b158c-75b1-4c0a-8617-efedafaf5943",
    "deepnote_cell_type": "markdown"
   }
  },
  {
   "cell_type": "markdown",
   "source": "### Data Implications",
   "metadata": {
    "cell_id": "00002-d4fa91d9-2f05-410f-85d9-a2832afc128f",
    "deepnote_cell_type": "markdown"
   }
  },
  {
   "cell_type": "markdown",
   "source": "### Imported Libraries",
   "metadata": {
    "cell_id": "00003-c6d196f5-1408-4dc8-869d-d27fdf6da84d",
    "deepnote_cell_type": "markdown"
   }
  },
  {
   "cell_type": "code",
   "metadata": {
    "cell_id": "00004-bc3ceb27-3c51-4427-815c-10c4ed6eb931",
    "deepnote_to_be_reexecuted": false,
    "source_hash": "fc5272e1",
    "execution_start": 1628501189681,
    "execution_millis": 0,
    "deepnote_cell_type": "code"
   },
   "source": "import numpy as np\nimport pandas as pd\nimport matplotlib.pyplot as plt\nimport seaborn as sns\n\n",
   "execution_count": 73,
   "outputs": []
  },
  {
   "cell_type": "markdown",
   "source": "### Video Game Data\nEach row in the dataset represents a particular video game released on or before the year 2020. Each column represents There are a total of 16,598 observations in the dataset and 11 variables. The dataset is composed of only a single csv file hence no merging is needed.",
   "metadata": {
    "cell_id": "00005-4e3c931a-7cab-4a62-8f64-8f4c87695f74",
    "deepnote_cell_type": "markdown"
   }
  },
  {
   "cell_type": "code",
   "metadata": {
    "cell_id": "00006-1c32feff-a1f5-45a1-858f-affbbd21c8b6",
    "deepnote_to_be_reexecuted": false,
    "source_hash": "46b05e77",
    "execution_start": 1628501190080,
    "execution_millis": 58,
    "deepnote_cell_type": "code"
   },
   "source": "games = pd.read_csv('vgsales.csv')",
   "execution_count": 74,
   "outputs": []
  },
  {
   "cell_type": "markdown",
   "source": "If the csv file is viewed in Excel. One can see the dataset contains 16,598 observations and 11 variables. The following are the descriptions for each variable.\n- Rank - Ranking of overall sales\n- Name - The games name\n- Platform - Platform of the games release (i.e. PC,PS4, etc.)\n- Year - Year of the game's release\n- Genre - Genre of the game\n- Publisher - Publisher of the game\n- NA_Sales - Sales in North America (in millions)\n- EU_Sales - Sales in Europe (in millions)\n- JP_Sales - Sales in Japan (in millions)\n- Other_Sales - Sales in the rest of the world (in millions)\n- Global_Sales - Total worldwide sales.\n",
   "metadata": {
    "cell_id": "00007-d23e0e29-ece8-4470-aba6-53379e520058",
    "deepnote_cell_type": "markdown"
   }
  },
  {
   "cell_type": "code",
   "metadata": {
    "collapsed": true,
    "cell_id": "00008-0f91d40b-4128-4423-ba0b-051821403b31",
    "deepnote_to_be_reexecuted": false,
    "source_hash": "2f37343d",
    "execution_start": 1628501190413,
    "execution_millis": 20,
    "deepnote_cell_type": "code"
   },
   "source": "games.info()",
   "execution_count": 75,
   "outputs": [
    {
     "name": "stdout",
     "text": "<class 'pandas.core.frame.DataFrame'>\nRangeIndex: 16598 entries, 0 to 16597\nData columns (total 11 columns):\n #   Column        Non-Null Count  Dtype  \n---  ------        --------------  -----  \n 0   Rank          16598 non-null  int64  \n 1   Name          16598 non-null  object \n 2   Platform      16598 non-null  object \n 3   Year          16327 non-null  float64\n 4   Genre         16598 non-null  object \n 5   Publisher     16540 non-null  object \n 6   NA_Sales      16598 non-null  float64\n 7   EU_Sales      16598 non-null  float64\n 8   JP_Sales      16598 non-null  float64\n 9   Other_Sales   16598 non-null  float64\n 10  Global_Sales  16598 non-null  float64\ndtypes: float64(6), int64(1), object(4)\nmemory usage: 1.4+ MB\n",
     "output_type": "stream"
    }
   ]
  },
  {
   "cell_type": "code",
   "metadata": {
    "cell_id": "00009-e1e79457-d4ff-4f8c-992b-f74b78aea60a",
    "deepnote_to_be_reexecuted": false,
    "source_hash": "1e06e3d2",
    "execution_start": 1628501190597,
    "execution_millis": 39,
    "deepnote_cell_type": "code"
   },
   "source": "games.head()",
   "execution_count": 76,
   "outputs": [
    {
     "output_type": "execute_result",
     "execution_count": 76,
     "data": {
      "application/vnd.deepnote.dataframe.v2+json": {
       "row_count": 5,
       "column_count": 11,
       "columns": [
        {
         "name": "Rank",
         "dtype": "int64",
         "stats": {
          "unique_count": 5,
          "nan_count": 0,
          "min": "1",
          "max": "5",
          "histogram": [
           {
            "bin_start": 1,
            "bin_end": 1.4,
            "count": 1
           },
           {
            "bin_start": 1.4,
            "bin_end": 1.8,
            "count": 0
           },
           {
            "bin_start": 1.8,
            "bin_end": 2.2,
            "count": 1
           },
           {
            "bin_start": 2.2,
            "bin_end": 2.6,
            "count": 0
           },
           {
            "bin_start": 2.6,
            "bin_end": 3,
            "count": 0
           },
           {
            "bin_start": 3,
            "bin_end": 3.4000000000000004,
            "count": 1
           },
           {
            "bin_start": 3.4000000000000004,
            "bin_end": 3.8000000000000003,
            "count": 0
           },
           {
            "bin_start": 3.8000000000000003,
            "bin_end": 4.2,
            "count": 1
           },
           {
            "bin_start": 4.2,
            "bin_end": 4.6,
            "count": 0
           },
           {
            "bin_start": 4.6,
            "bin_end": 5,
            "count": 1
           }
          ]
         }
        },
        {
         "name": "Name",
         "dtype": "object",
         "stats": {
          "unique_count": 5,
          "nan_count": 0,
          "categories": [
           {
            "name": "Wii Sports",
            "count": 1
           },
           {
            "name": "Super Mario Bros.",
            "count": 1
           },
           {
            "name": "3 others",
            "count": 3
           }
          ]
         }
        },
        {
         "name": "Platform",
         "dtype": "object",
         "stats": {
          "unique_count": 3,
          "nan_count": 0,
          "categories": [
           {
            "name": "Wii",
            "count": 3
           },
           {
            "name": "NES",
            "count": 1
           },
           {
            "name": "GB",
            "count": 1
           }
          ]
         }
        },
        {
         "name": "Year",
         "dtype": "float64",
         "stats": {
          "unique_count": 5,
          "nan_count": 0,
          "min": "1985.0",
          "max": "2009.0",
          "histogram": [
           {
            "bin_start": 1985,
            "bin_end": 1987.4,
            "count": 1
           },
           {
            "bin_start": 1987.4,
            "bin_end": 1989.8,
            "count": 0
           },
           {
            "bin_start": 1989.8,
            "bin_end": 1992.2,
            "count": 0
           },
           {
            "bin_start": 1992.2,
            "bin_end": 1994.6,
            "count": 0
           },
           {
            "bin_start": 1994.6,
            "bin_end": 1997,
            "count": 1
           },
           {
            "bin_start": 1997,
            "bin_end": 1999.4,
            "count": 0
           },
           {
            "bin_start": 1999.4,
            "bin_end": 2001.8,
            "count": 0
           },
           {
            "bin_start": 2001.8,
            "bin_end": 2004.2,
            "count": 0
           },
           {
            "bin_start": 2004.2,
            "bin_end": 2006.6,
            "count": 1
           },
           {
            "bin_start": 2006.6,
            "bin_end": 2009,
            "count": 2
           }
          ]
         }
        },
        {
         "name": "Genre",
         "dtype": "object",
         "stats": {
          "unique_count": 4,
          "nan_count": 0,
          "categories": [
           {
            "name": "Sports",
            "count": 2
           },
           {
            "name": "Platform",
            "count": 1
           },
           {
            "name": "2 others",
            "count": 2
           }
          ]
         }
        },
        {
         "name": "Publisher",
         "dtype": "object",
         "stats": {
          "unique_count": 1,
          "nan_count": 0,
          "categories": [
           {
            "name": "Nintendo",
            "count": 5
           }
          ]
         }
        },
        {
         "name": "NA_Sales",
         "dtype": "float64",
         "stats": {
          "unique_count": 5,
          "nan_count": 0,
          "min": "11.27",
          "max": "41.49",
          "histogram": [
           {
            "bin_start": 11.27,
            "bin_end": 14.292,
            "count": 1
           },
           {
            "bin_start": 14.292,
            "bin_end": 17.314,
            "count": 2
           },
           {
            "bin_start": 17.314,
            "bin_end": 20.336,
            "count": 0
           },
           {
            "bin_start": 20.336,
            "bin_end": 23.358,
            "count": 0
           },
           {
            "bin_start": 23.358,
            "bin_end": 26.380000000000003,
            "count": 0
           },
           {
            "bin_start": 26.380000000000003,
            "bin_end": 29.402,
            "count": 1
           },
           {
            "bin_start": 29.402,
            "bin_end": 32.42400000000001,
            "count": 0
           },
           {
            "bin_start": 32.42400000000001,
            "bin_end": 35.446,
            "count": 0
           },
           {
            "bin_start": 35.446,
            "bin_end": 38.468,
            "count": 0
           },
           {
            "bin_start": 38.468,
            "bin_end": 41.49,
            "count": 1
           }
          ]
         }
        },
        {
         "name": "EU_Sales",
         "dtype": "float64",
         "stats": {
          "unique_count": 5,
          "nan_count": 0,
          "min": "3.58",
          "max": "29.02",
          "histogram": [
           {
            "bin_start": 3.58,
            "bin_end": 6.124,
            "count": 1
           },
           {
            "bin_start": 6.124,
            "bin_end": 8.668,
            "count": 0
           },
           {
            "bin_start": 8.668,
            "bin_end": 11.212,
            "count": 2
           },
           {
            "bin_start": 11.212,
            "bin_end": 13.755999999999998,
            "count": 1
           },
           {
            "bin_start": 13.755999999999998,
            "bin_end": 16.299999999999997,
            "count": 0
           },
           {
            "bin_start": 16.299999999999997,
            "bin_end": 18.843999999999998,
            "count": 0
           },
           {
            "bin_start": 18.843999999999998,
            "bin_end": 21.387999999999998,
            "count": 0
           },
           {
            "bin_start": 21.387999999999998,
            "bin_end": 23.931999999999995,
            "count": 0
           },
           {
            "bin_start": 23.931999999999995,
            "bin_end": 26.476,
            "count": 0
           },
           {
            "bin_start": 26.476,
            "bin_end": 29.02,
            "count": 1
           }
          ]
         }
        },
        {
         "name": "JP_Sales",
         "dtype": "float64",
         "stats": {
          "unique_count": 5,
          "nan_count": 0,
          "min": "3.28",
          "max": "10.22",
          "histogram": [
           {
            "bin_start": 3.28,
            "bin_end": 3.974,
            "count": 3
           },
           {
            "bin_start": 3.974,
            "bin_end": 4.668,
            "count": 0
           },
           {
            "bin_start": 4.668,
            "bin_end": 5.362,
            "count": 0
           },
           {
            "bin_start": 5.362,
            "bin_end": 6.056000000000001,
            "count": 0
           },
           {
            "bin_start": 6.056000000000001,
            "bin_end": 6.75,
            "count": 0
           },
           {
            "bin_start": 6.75,
            "bin_end": 7.444000000000001,
            "count": 1
           },
           {
            "bin_start": 7.444000000000001,
            "bin_end": 8.138000000000002,
            "count": 0
           },
           {
            "bin_start": 8.138000000000002,
            "bin_end": 8.832,
            "count": 0
           },
           {
            "bin_start": 8.832,
            "bin_end": 9.526000000000002,
            "count": 0
           },
           {
            "bin_start": 9.526000000000002,
            "bin_end": 10.22,
            "count": 1
           }
          ]
         }
        },
        {
         "name": "Other_Sales",
         "dtype": "float64",
         "stats": {
          "unique_count": 5,
          "nan_count": 0,
          "min": "0.77",
          "max": "8.46",
          "histogram": [
           {
            "bin_start": 0.77,
            "bin_end": 1.5390000000000001,
            "count": 2
           },
           {
            "bin_start": 1.5390000000000001,
            "bin_end": 2.3080000000000003,
            "count": 0
           },
           {
            "bin_start": 2.3080000000000003,
            "bin_end": 3.0770000000000004,
            "count": 1
           },
           {
            "bin_start": 3.0770000000000004,
            "bin_end": 3.8460000000000005,
            "count": 1
           },
           {
            "bin_start": 3.8460000000000005,
            "bin_end": 4.615,
            "count": 0
           },
           {
            "bin_start": 4.615,
            "bin_end": 5.384,
            "count": 0
           },
           {
            "bin_start": 5.384,
            "bin_end": 6.1530000000000005,
            "count": 0
           },
           {
            "bin_start": 6.1530000000000005,
            "bin_end": 6.922000000000001,
            "count": 0
           },
           {
            "bin_start": 6.922000000000001,
            "bin_end": 7.691000000000001,
            "count": 0
           },
           {
            "bin_start": 7.691000000000001,
            "bin_end": 8.46,
            "count": 1
           }
          ]
         }
        },
        {
         "name": "Global_Sales",
         "dtype": "float64",
         "stats": {
          "unique_count": 5,
          "nan_count": 0,
          "min": "31.37",
          "max": "82.74",
          "histogram": [
           {
            "bin_start": 31.37,
            "bin_end": 36.507,
            "count": 3
           },
           {
            "bin_start": 36.507,
            "bin_end": 41.644,
            "count": 1
           },
           {
            "bin_start": 41.644,
            "bin_end": 46.781,
            "count": 0
           },
           {
            "bin_start": 46.781,
            "bin_end": 51.91799999999999,
            "count": 0
           },
           {
            "bin_start": 51.91799999999999,
            "bin_end": 57.05499999999999,
            "count": 0
           },
           {
            "bin_start": 57.05499999999999,
            "bin_end": 62.19199999999999,
            "count": 0
           },
           {
            "bin_start": 62.19199999999999,
            "bin_end": 67.329,
            "count": 0
           },
           {
            "bin_start": 67.329,
            "bin_end": 72.466,
            "count": 0
           },
           {
            "bin_start": 72.466,
            "bin_end": 77.603,
            "count": 0
           },
           {
            "bin_start": 77.603,
            "bin_end": 82.74,
            "count": 1
           }
          ]
         }
        },
        {
         "name": "_deepnote_index_column",
         "dtype": "int64"
        }
       ],
       "rows_top": [
        {
         "Rank": 1,
         "Name": "Wii Sports",
         "Platform": "Wii",
         "Year": 2006,
         "Genre": "Sports",
         "Publisher": "Nintendo",
         "NA_Sales": 41.49,
         "EU_Sales": 29.02,
         "JP_Sales": 3.77,
         "Other_Sales": 8.46,
         "Global_Sales": 82.74,
         "_deepnote_index_column": 0
        },
        {
         "Rank": 2,
         "Name": "Super Mario Bros.",
         "Platform": "NES",
         "Year": 1985,
         "Genre": "Platform",
         "Publisher": "Nintendo",
         "NA_Sales": 29.08,
         "EU_Sales": 3.58,
         "JP_Sales": 6.81,
         "Other_Sales": 0.77,
         "Global_Sales": 40.24,
         "_deepnote_index_column": 1
        },
        {
         "Rank": 3,
         "Name": "Mario Kart Wii",
         "Platform": "Wii",
         "Year": 2008,
         "Genre": "Racing",
         "Publisher": "Nintendo",
         "NA_Sales": 15.85,
         "EU_Sales": 12.88,
         "JP_Sales": 3.79,
         "Other_Sales": 3.31,
         "Global_Sales": 35.82,
         "_deepnote_index_column": 2
        },
        {
         "Rank": 4,
         "Name": "Wii Sports Resort",
         "Platform": "Wii",
         "Year": 2009,
         "Genre": "Sports",
         "Publisher": "Nintendo",
         "NA_Sales": 15.75,
         "EU_Sales": 11.01,
         "JP_Sales": 3.28,
         "Other_Sales": 2.96,
         "Global_Sales": 33,
         "_deepnote_index_column": 3
        },
        {
         "Rank": 5,
         "Name": "Pokemon Red/Pokemon Blue",
         "Platform": "GB",
         "Year": 1996,
         "Genre": "Role-Playing",
         "Publisher": "Nintendo",
         "NA_Sales": 11.27,
         "EU_Sales": 8.89,
         "JP_Sales": 10.22,
         "Other_Sales": 1,
         "Global_Sales": 31.37,
         "_deepnote_index_column": 4
        }
       ],
       "rows_bottom": null
      },
      "text/plain": "   Rank                      Name Platform    Year         Genre Publisher  \\\n0     1                Wii Sports      Wii  2006.0        Sports  Nintendo   \n1     2         Super Mario Bros.      NES  1985.0      Platform  Nintendo   \n2     3            Mario Kart Wii      Wii  2008.0        Racing  Nintendo   \n3     4         Wii Sports Resort      Wii  2009.0        Sports  Nintendo   \n4     5  Pokemon Red/Pokemon Blue       GB  1996.0  Role-Playing  Nintendo   \n\n   NA_Sales  EU_Sales  JP_Sales  Other_Sales  Global_Sales  \n0     41.49     29.02      3.77         8.46         82.74  \n1     29.08      3.58      6.81         0.77         40.24  \n2     15.85     12.88      3.79         3.31         35.82  \n3     15.75     11.01      3.28         2.96         33.00  \n4     11.27      8.89     10.22         1.00         31.37  ",
      "text/html": "<div>\n<style scoped>\n    .dataframe tbody tr th:only-of-type {\n        vertical-align: middle;\n    }\n\n    .dataframe tbody tr th {\n        vertical-align: top;\n    }\n\n    .dataframe thead th {\n        text-align: right;\n    }\n</style>\n<table border=\"1\" class=\"dataframe\">\n  <thead>\n    <tr style=\"text-align: right;\">\n      <th></th>\n      <th>Rank</th>\n      <th>Name</th>\n      <th>Platform</th>\n      <th>Year</th>\n      <th>Genre</th>\n      <th>Publisher</th>\n      <th>NA_Sales</th>\n      <th>EU_Sales</th>\n      <th>JP_Sales</th>\n      <th>Other_Sales</th>\n      <th>Global_Sales</th>\n    </tr>\n  </thead>\n  <tbody>\n    <tr>\n      <th>0</th>\n      <td>1</td>\n      <td>Wii Sports</td>\n      <td>Wii</td>\n      <td>2006.0</td>\n      <td>Sports</td>\n      <td>Nintendo</td>\n      <td>41.49</td>\n      <td>29.02</td>\n      <td>3.77</td>\n      <td>8.46</td>\n      <td>82.74</td>\n    </tr>\n    <tr>\n      <th>1</th>\n      <td>2</td>\n      <td>Super Mario Bros.</td>\n      <td>NES</td>\n      <td>1985.0</td>\n      <td>Platform</td>\n      <td>Nintendo</td>\n      <td>29.08</td>\n      <td>3.58</td>\n      <td>6.81</td>\n      <td>0.77</td>\n      <td>40.24</td>\n    </tr>\n    <tr>\n      <th>2</th>\n      <td>3</td>\n      <td>Mario Kart Wii</td>\n      <td>Wii</td>\n      <td>2008.0</td>\n      <td>Racing</td>\n      <td>Nintendo</td>\n      <td>15.85</td>\n      <td>12.88</td>\n      <td>3.79</td>\n      <td>3.31</td>\n      <td>35.82</td>\n    </tr>\n    <tr>\n      <th>3</th>\n      <td>4</td>\n      <td>Wii Sports Resort</td>\n      <td>Wii</td>\n      <td>2009.0</td>\n      <td>Sports</td>\n      <td>Nintendo</td>\n      <td>15.75</td>\n      <td>11.01</td>\n      <td>3.28</td>\n      <td>2.96</td>\n      <td>33.00</td>\n    </tr>\n    <tr>\n      <th>4</th>\n      <td>5</td>\n      <td>Pokemon Red/Pokemon Blue</td>\n      <td>GB</td>\n      <td>1996.0</td>\n      <td>Role-Playing</td>\n      <td>Nintendo</td>\n      <td>11.27</td>\n      <td>8.89</td>\n      <td>10.22</td>\n      <td>1.00</td>\n      <td>31.37</td>\n    </tr>\n  </tbody>\n</table>\n</div>"
     },
     "metadata": {}
    }
   ]
  },
  {
   "cell_type": "code",
   "metadata": {
    "collapsed": true,
    "cell_id": "00010-c3d6ac4b-189b-4e4d-be15-2edc06206bda",
    "deepnote_to_be_reexecuted": false,
    "source_hash": "a337361c",
    "execution_start": 1628510640749,
    "execution_millis": 4,
    "deepnote_cell_type": "code"
   },
   "source": "#Rank is not equal to Name since there are similar games that are released in different Platforms.\ngames.nunique(axis = 0)",
   "execution_count": 104,
   "outputs": [
    {
     "output_type": "execute_result",
     "execution_count": 104,
     "data": {
      "text/plain": "NA_Sales    520\nJP_Sales    366\ndtype: int64"
     },
     "metadata": {}
    }
   ]
  },
  {
   "cell_type": "markdown",
   "source": "### Cleaning of Dataset",
   "metadata": {
    "cell_id": "00011-cd2fdd57-e053-4967-ba22-91681bea07d9",
    "deepnote_cell_type": "markdown"
   }
  },
  {
   "cell_type": "markdown",
   "source": "First we check for any null values.",
   "metadata": {
    "tags": [],
    "cell_id": "00012-dd02924e-0dcf-4250-8f69-c4330dc68753",
    "deepnote_cell_type": "markdown"
   }
  },
  {
   "cell_type": "code",
   "metadata": {
    "cell_id": "00012-9c373a6d-cdfa-4968-b25d-4639051af2ec",
    "deepnote_to_be_reexecuted": false,
    "source_hash": "400b3a37",
    "execution_start": 1628501191656,
    "execution_millis": 9,
    "deepnote_cell_type": "code"
   },
   "source": "games.isnull().any()",
   "execution_count": 78,
   "outputs": [
    {
     "output_type": "execute_result",
     "execution_count": 78,
     "data": {
      "text/plain": "Rank            False\nName            False\nPlatform        False\nYear             True\nGenre           False\nPublisher        True\nNA_Sales        False\nEU_Sales        False\nJP_Sales        False\nOther_Sales     False\nGlobal_Sales    False\ndtype: bool"
     },
     "metadata": {}
    }
   ]
  },
  {
   "cell_type": "markdown",
   "source": "Year and Publisher have null values and only contains a small portion of the dataset so can be safely dropped.",
   "metadata": {
    "cell_id": "00013-14bad9d1-db0d-495f-ad65-3fb9d9929444",
    "deepnote_cell_type": "markdown"
   }
  },
  {
   "cell_type": "code",
   "metadata": {
    "cell_id": "00014-d90f1241-e8f5-4478-9f01-9f016bdb0f74",
    "deepnote_to_be_reexecuted": false,
    "source_hash": "2e7dbe29",
    "execution_start": 1628501192345,
    "execution_millis": 16,
    "deepnote_cell_type": "code"
   },
   "source": "null = games.columns[games.isnull().any()].tolist()\ngames[null].isnull().sum()",
   "execution_count": 79,
   "outputs": [
    {
     "output_type": "execute_result",
     "execution_count": 79,
     "data": {
      "text/plain": "Year         271\nPublisher     58\ndtype: int64"
     },
     "metadata": {}
    }
   ]
  },
  {
   "cell_type": "markdown",
   "source": "There is a Publisher \"Unknown\" which are invalid values.",
   "metadata": {
    "cell_id": "00015-8f7398d2-d007-4d3c-9e62-94302e0fdb1e",
    "deepnote_cell_type": "markdown"
   }
  },
  {
   "cell_type": "code",
   "metadata": {
    "collapsed": true,
    "cell_id": "00016-3ea5283b-bbff-4151-93e7-66f627517e31",
    "deepnote_to_be_reexecuted": false,
    "source_hash": "8ddbc1f1",
    "execution_start": 1628501193200,
    "execution_millis": 10,
    "is_output_hidden": true,
    "deepnote_cell_type": "code"
   },
   "source": "games['Publisher'].unique()",
   "execution_count": 80,
   "outputs": [
    {
     "output_type": "execute_result",
     "execution_count": 80,
     "data": {
      "text/plain": "array(['Nintendo', 'Microsoft Game Studios', 'Take-Two Interactive',\n       'Sony Computer Entertainment', 'Activision', 'Ubisoft',\n       'Bethesda Softworks', 'Electronic Arts', 'Sega', 'SquareSoft',\n       'Atari', '505 Games', 'Capcom', 'GT Interactive',\n       'Konami Digital Entertainment',\n       'Sony Computer Entertainment Europe', 'Square Enix', 'LucasArts',\n       'Virgin Interactive', 'Warner Bros. Interactive Entertainment',\n       'Universal Interactive', 'Eidos Interactive', 'RedOctane',\n       'Vivendi Games', 'Enix Corporation', 'Namco Bandai Games',\n       'Palcom', 'Hasbro Interactive', 'THQ', 'Fox Interactive',\n       'Acclaim Entertainment', 'MTV Games', 'Disney Interactive Studios',\n       nan, 'Majesco Entertainment', 'Codemasters', 'Red Orb', 'Level 5',\n       'Arena Entertainment', 'Midway Games', 'JVC', 'Deep Silver',\n       '989 Studios', 'NCSoft', 'UEP Systems', 'Parker Bros.', 'Maxis',\n       'Imagic', 'Tecmo Koei', 'Valve Software', 'ASCII Entertainment',\n       'Mindscape', 'Infogrames', 'Unknown', 'Square', 'Valve',\n       'Activision Value', 'Banpresto', 'D3Publisher',\n       'Oxygen Interactive', 'Red Storm Entertainment', 'Video System',\n       'Hello Games', 'Global Star', 'Gotham Games', 'Westwood Studios',\n       'GungHo', 'Crave Entertainment', 'Hudson Soft', 'Coleco',\n       'Rising Star Games', 'Atlus', 'TDK Mediactive', 'ASC Games',\n       'Zoo Games', 'Accolade', 'Sony Online Entertainment', '3DO', 'RTL',\n       'Natsume', 'Focus Home Interactive', 'Alchemist',\n       'Black Label Games', 'SouthPeak Games', 'Mastertronic', 'Ocean',\n       'Zoo Digital Publishing', 'Psygnosis', 'City Interactive',\n       'Empire Interactive', 'Success', 'Compile', 'Russel', 'Taito',\n       'Agetec', 'GSP', 'Microprose', 'Play It', 'Slightly Mad Studios',\n       'Tomy Corporation', 'Sammy Corporation', 'Koch Media',\n       'Game Factory', 'Titus', 'Marvelous Entertainment', 'Genki',\n       'Mojang', 'Pinnacle', 'CTO SpA', 'TalonSoft', 'Crystal Dynamics',\n       'SCi', 'Quelle', 'mixi, Inc', 'Rage Software', 'Ubisoft Annecy',\n       'Scholastic Inc.', 'Interplay', 'Mystique', 'ChunSoft',\n       'Square EA', '20th Century Fox Video Games', 'Avanquest Software',\n       'Hudson Entertainment', 'Nordic Games', 'Men-A-Vision', 'Nobilis',\n       'Big Ben Interactive', 'Touchstone', 'Spike', 'Jester Interactive',\n       'Nippon Ichi Software', 'LEGO Media', 'Quest',\n       'Illusion Softworks', 'Tigervision', 'Funbox Media',\n       'Rocket Company', 'Metro 3D', 'Mattel Interactive', 'IE Institute',\n       'Rondomedia', 'Sony Computer Entertainment America',\n       'Universal Gamex', 'Ghostlight', 'Wizard Video Games',\n       'BMG Interactive Entertainment', 'PQube', 'Trion Worlds', 'Laguna',\n       'Ignition Entertainment', 'Takara', 'Kadokawa Shoten', 'Destineer',\n       'Enterbrain', 'Xseed Games', 'Imagineer',\n       'System 3 Arcade Software', 'CPG Products', 'Aruze Corp',\n       'Gamebridge', 'Midas Interactive Entertainment', 'Jaleco',\n       'Answer Software', 'XS Games', 'Activision Blizzard',\n       'Pack In Soft', 'Rebellion', 'Xplosiv', 'Ultravision',\n       'GameMill Entertainment', 'Wanadoo', 'NovaLogic', 'Telltale Games',\n       'Epoch', 'BAM! Entertainment', 'Knowledge Adventure', 'Mastiff',\n       'Tetris Online', 'Harmonix Music Systems', 'ESP', 'TYO',\n       'Telegames', 'Mud Duck Productions', 'Screenlife', 'Pioneer LDC',\n       'Magical Company', 'Mentor Interactive', 'Kemco',\n       'Human Entertainment', 'Avanquest', 'Data Age',\n       'Electronic Arts Victor', 'Black Bean Games', 'Jack of All Games',\n       '989 Sports', 'Takara Tomy', 'Media Rings', 'Elf', 'Kalypso Media',\n       'Starfish', 'Zushi Games', 'Jorudan', 'Destination Software, Inc',\n       'New', 'Brash Entertainment', 'ITT Family Games', 'PopCap Games',\n       'Home Entertainment Suppliers', 'Ackkstudios', 'Starpath Corp.',\n       'P2 Games', 'BPS', 'Gathering of Developers', 'NewKidCo',\n       'Storm City Games', 'CokeM Interactive', 'CBS Electronics',\n       'Magix', 'Marvelous Interactive', 'Nihon Falcom Corporation',\n       'Wargaming.net', 'Angel Studios', 'Arc System Works', 'Playmates',\n       'SNK Playmore', 'Hamster Corporation', 'From Software',\n       'Nippon Columbia', 'Nichibutsu', 'Little Orbit',\n       'Conspiracy Entertainment', 'DTP Entertainment', 'Hect',\n       'Mumbo Jumbo', 'Pacific Century Cyber Works', 'Indie Games',\n       'Liquid Games', 'NEC', 'Axela', 'ArtDink', 'Sunsoft', 'Gust',\n       'SNK', 'NEC Interchannel', 'FuRyu', 'Xing Entertainment',\n       'ValuSoft', 'Victor Interactive', 'Detn8 Games',\n       'American Softworks', 'Nordcurrent', 'Bomb', 'Falcom Corporation',\n       'AQ Interactive', 'CCP', 'Milestone S.r.l.', 'Sears',\n       'JoWood Productions', 'Seta Corporation', 'On Demand', 'NCS',\n       'Aspyr', 'Gremlin Interactive Ltd', 'Agatsuma Entertainment',\n       'Compile Heart', 'Culture Brain', 'Mad Catz', 'Shogakukan',\n       'Merscom LLC', 'Rebellion Developments', 'Nippon Telenet',\n       'TDK Core', 'bitComposer Games', 'Foreign Media Games', 'Astragon',\n       'SSI', 'Kadokawa Games', 'Idea Factory',\n       'Performance Designed Products', 'Asylum Entertainment',\n       'Core Design Ltd.', 'PlayV', 'UFO Interactive',\n       'Idea Factory International', 'Playlogic Game Factory',\n       'Essential Games', 'Adeline Software', 'Funcom',\n       'Panther Software', 'Blast! Entertainment Ltd', 'Game Life',\n       'DSI Games', 'Avalon Interactive', 'Popcorn Arcade',\n       'Neko Entertainment', 'Vir2L Studios', 'Aques', 'Syscom',\n       'White Park Bay Software', 'System 3', 'Vatical Entertainment',\n       'Daedalic', 'EA Games', 'Media Factory', 'Vic Tokai',\n       'The Adventure Company', 'Game Arts', 'Broccoli', 'Acquire',\n       'General Entertainment', 'Excalibur Publishing', 'Imadio',\n       'Swing! Entertainment', 'Sony Music Entertainment', 'Aqua Plus',\n       'Paradox Interactive', 'Hip Interactive',\n       'DreamCatcher Interactive', 'Tripwire Interactive', 'Sting',\n       'Yacht Club Games', 'SCS Software', 'Bigben Interactive',\n       'Havas Interactive', 'Slitherine Software', 'Graffiti', 'Funsta',\n       'Telstar', 'U.S. Gold', 'DreamWorks Interactive',\n       'Data Design Interactive', 'MTO', 'DHM Interactive', 'FunSoft',\n       'SPS', 'Bohemia Interactive', 'Reef Entertainment',\n       'Tru Blu Entertainment', 'Moss', 'T&E Soft', 'O-Games',\n       'Aksys Games', 'NDA Productions', 'Data East',\n       'Time Warner Interactive', 'Gainax Network Systems', 'Daito',\n       'O3 Entertainment', 'Gameloft', 'Xicat Interactive',\n       'Simon & Schuster Interactive', 'Valcon Games', 'PopTop Software',\n       'TOHO', 'HMH Interactive', '5pb', 'Cave',\n       'CDV Software Entertainment', 'Microids', 'PM Studios', 'Paon',\n       'Micro Cabin', 'GameTek', 'Benesse', 'Type-Moon',\n       'Enjoy Gaming ltd.', 'Asmik Corp', 'Interplay Productions',\n       'Asmik Ace Entertainment', 'inXile Entertainment', 'Image Epoch',\n       'Phantom EFX', 'Evolved Games', 'responDESIGN',\n       'Culture Publishers', 'Griffin International', 'Hackberry',\n       'Hearty Robin', 'Nippon Amuse', 'Origin Systems', 'Seventh Chord',\n       'Mitsui', 'Milestone', 'Abylight', 'Flight-Plan', 'Glams', 'Locus',\n       'Warp', 'Daedalic Entertainment', 'Alternative Software',\n       'Myelin Media', 'Mercury Games', 'Irem Software Engineering',\n       'Sunrise Interactive', 'Elite', 'Evolution Games', 'Tivola',\n       'Global A Entertainment', 'Edia', 'Athena', 'Aria', 'Gamecock',\n       'Tommo', 'Altron', 'Happinet', 'iWin', 'Media Works', 'Fortyfive',\n       'Revolution Software', 'Imax', 'Crimson Cow', '10TACLE Studios',\n       'Groove Games', 'Pack-In-Video', 'Insomniac Games',\n       'Ascaron Entertainment GmbH', 'Asgard', 'Ecole', 'Yumedia',\n       'Phenomedia', 'HAL Laboratory', 'Grand Prix Games', 'DigiCube',\n       'Creative Core', 'Kaga Create', 'WayForward Technologies',\n       'LSP Games', 'ASCII Media Works', 'Coconuts Japan', 'Arika',\n       'Ertain', 'Marvel Entertainment', 'Prototype',\n       'TopWare Interactive', 'Phantagram', '1C Company',\n       'The Learning Company', 'TechnoSoft', 'Vap', 'Misawa', 'Tradewest',\n       'Team17 Software', 'Yeti', 'Pow', 'Navarre Corp', 'MediaQuest',\n       'Max Five', 'Comfort', 'Monte Christo Multimedia', 'Pony Canyon',\n       'Riverhillsoft', 'Summitsoft', 'Milestone S.r.l', 'Playmore',\n       'MLB.com', 'Kool Kizz', 'Flashpoint Games', '49Games',\n       'Legacy Interactive', 'Alawar Entertainment', 'CyberFront',\n       'Cloud Imperium Games Corporation', 'Societa',\n       'Virtual Play Games', 'Interchannel', 'Sonnet', 'Experience Inc.',\n       'Zenrin', 'Iceberg Interactive', 'Ivolgamus', '2D Boy',\n       'MC2 Entertainment', 'Kando Games', 'Just Flight', 'Office Create',\n       'Mamba Games', 'Fields', 'Princess Soft', 'Maximum Family Games',\n       'Berkeley', 'Fuji', 'Dusenberry Martin Racing', 'imageepoch Inc.',\n       'Big Fish Games', 'Her Interactive', 'Kamui', 'ASK',\n       'Headup Games', 'KSS', 'Cygames', 'KID', 'Quinrose', 'Sunflowers',\n       'dramatic create', 'TGL', 'Encore', 'Extreme Entertainment Group',\n       'Intergrow', 'G.Rev', 'Sweets', 'Kokopeli Digital Studios',\n       'Number None', 'Nexon', 'id Software', 'BushiRoad', 'Tryfirst',\n       'Strategy First', '7G//AMES', 'GN Software', \"Yuke's\",\n       'Easy Interactive', 'Licensed 4U', 'FuRyu Corporation',\n       'Lexicon Entertainment', 'Paon Corporation', 'Kids Station', 'GOA',\n       'Graphsim Entertainment', 'King Records', 'Introversion Software',\n       'Minato Station', 'Devolver Digital', 'Blue Byte', 'Gaga',\n       'Yamasa Entertainment', 'Plenty', 'Views', 'fonfun', 'NetRevo',\n       'Codemasters Online', 'Quintet', 'Phoenix Games', 'Dorart',\n       'Marvelous Games', 'Focus Multimedia', 'Imageworks',\n       'Karin Entertainment', 'Aerosoft', 'Technos Japan Corporation',\n       'Gakken', 'Mirai Shounen', 'Datam Polystar', 'Saurus', 'HuneX',\n       'Revolution (Japan)', 'Giza10', 'Visco', 'Alvion', 'Mycom', 'Giga',\n       'Warashi', 'System Soft', 'Sold Out', 'Lighthouse Interactive',\n       'Masque Publishing', 'RED Entertainment', 'Michaelsoft',\n       'Media Entertainment', 'New World Computing', 'Genterprise',\n       'Interworks Unlimited, Inc.', 'Boost On', 'Stainless Games',\n       'EON Digital Entertainment', 'Epic Games', 'Naxat Soft',\n       'Ascaron Entertainment', 'Piacci', 'Nitroplus',\n       'Paradox Development', 'Otomate', 'Ongakukan', 'Commseed',\n       'Inti Creates', 'Takuyo', 'Interchannel-Holon', 'Rain Games',\n       'UIG Entertainment'], dtype=object)"
     },
     "metadata": {}
    }
   ]
  },
  {
   "cell_type": "code",
   "metadata": {
    "cell_id": "00017-08f44dc4-7716-4581-ae41-5d265a1cc476",
    "deepnote_to_be_reexecuted": false,
    "source_hash": "b1302ed8",
    "execution_start": 1628501193557,
    "execution_millis": 8,
    "deepnote_cell_type": "code"
   },
   "source": "(games['Publisher']=='Unknown').sum()",
   "execution_count": 81,
   "outputs": [
    {
     "output_type": "execute_result",
     "execution_count": 81,
     "data": {
      "text/plain": "203"
     },
     "metadata": {}
    }
   ]
  },
  {
   "cell_type": "code",
   "metadata": {
    "cell_id": "00018-dede23cd-06d5-4c23-b48d-4a9556c87605",
    "deepnote_to_be_reexecuted": false,
    "source_hash": "17e36f46",
    "execution_start": 1628501194963,
    "execution_millis": 8,
    "deepnote_cell_type": "code"
   },
   "source": "games = games[games.Publisher != 'Unknown']\n(games['Publisher']=='Unknown').sum()",
   "execution_count": 82,
   "outputs": [
    {
     "output_type": "execute_result",
     "execution_count": 82,
     "data": {
      "text/plain": "0"
     },
     "metadata": {}
    }
   ]
  },
  {
   "cell_type": "code",
   "metadata": {
    "cell_id": "00019-2295135b-d769-4f65-9e53-79e5fce4d1d6",
    "deepnote_to_be_reexecuted": false,
    "source_hash": "247459fa",
    "execution_start": 1628501195397,
    "execution_millis": 7,
    "deepnote_cell_type": "code"
   },
   "source": "games = games.dropna(subset=['Year','Publisher'])",
   "execution_count": 83,
   "outputs": []
  },
  {
   "cell_type": "code",
   "metadata": {
    "cell_id": "00020-00a09635-eee3-421d-98ff-76d70d0a44df",
    "deepnote_to_be_reexecuted": false,
    "source_hash": "400b3a37",
    "execution_start": 1628501195912,
    "execution_millis": 12,
    "deepnote_cell_type": "code"
   },
   "source": "games.isnull().any()",
   "execution_count": 84,
   "outputs": [
    {
     "output_type": "execute_result",
     "execution_count": 84,
     "data": {
      "text/plain": "Rank            False\nName            False\nPlatform        False\nYear            False\nGenre           False\nPublisher       False\nNA_Sales        False\nEU_Sales        False\nJP_Sales        False\nOther_Sales     False\nGlobal_Sales    False\ndtype: bool"
     },
     "metadata": {}
    }
   ]
  },
  {
   "cell_type": "markdown",
   "source": "Check for any duplicate observations in the dataset.",
   "metadata": {
    "tags": [],
    "cell_id": "00022-535a386f-f44d-48be-8a1b-98edc5057d90",
    "deepnote_cell_type": "markdown"
   }
  },
  {
   "cell_type": "code",
   "metadata": {
    "cell_id": "00021-b7a455b4-49ba-4f90-a758-4a38762ba8b5",
    "deepnote_to_be_reexecuted": false,
    "source_hash": "56bd3aed",
    "execution_start": 1628501197354,
    "execution_millis": 18,
    "deepnote_cell_type": "code"
   },
   "source": "duplicate = games.duplicated()\nprint(\"Number of duplicates:\" + str(duplicate.sum()))",
   "execution_count": 85,
   "outputs": [
    {
     "name": "stdout",
     "text": "Number of duplicates:0\n",
     "output_type": "stream"
    }
   ]
  },
  {
   "cell_type": "markdown",
   "source": "The Dataset was last updated at 2017 so any game beyond that may be due to invalid input of date, fortunately it is only a small subset that were invalid.",
   "metadata": {
    "cell_id": "00022-b5556df2-25a0-4cfa-a38b-53d32d173532",
    "deepnote_cell_type": "markdown"
   }
  },
  {
   "cell_type": "code",
   "metadata": {
    "cell_id": "00023-c8074644-23a3-4a2e-8803-f012f0c9dd39",
    "deepnote_to_be_reexecuted": false,
    "source_hash": "cdf4b48d",
    "execution_start": 1628501198768,
    "execution_millis": 9,
    "deepnote_cell_type": "code"
   },
   "source": "games = games[games.Year < 2017]\n(games['Year'] > 2017).sum()",
   "execution_count": 86,
   "outputs": [
    {
     "output_type": "execute_result",
     "execution_count": 86,
     "data": {
      "text/plain": "0"
     },
     "metadata": {}
    }
   ]
  },
  {
   "cell_type": "code",
   "source": "games.info()",
   "metadata": {
    "tags": [],
    "cell_id": "00025-6ee173fd-ce27-43ed-af05-b7fcf27cca20",
    "deepnote_to_be_reexecuted": false,
    "source_hash": "2f37343d",
    "execution_start": 1628501205853,
    "execution_millis": 13,
    "deepnote_cell_type": "code"
   },
   "outputs": [
    {
     "name": "stdout",
     "text": "<class 'pandas.core.frame.DataFrame'>\nInt64Index: 16187 entries, 0 to 16597\nData columns (total 11 columns):\n #   Column        Non-Null Count  Dtype  \n---  ------        --------------  -----  \n 0   Rank          16187 non-null  int64  \n 1   Name          16187 non-null  object \n 2   Platform      16187 non-null  object \n 3   Year          16187 non-null  float64\n 4   Genre         16187 non-null  object \n 5   Publisher     16187 non-null  object \n 6   NA_Sales      16187 non-null  float64\n 7   EU_Sales      16187 non-null  float64\n 8   JP_Sales      16187 non-null  float64\n 9   Other_Sales   16187 non-null  float64\n 10  Global_Sales  16187 non-null  float64\ndtypes: float64(6), int64(1), object(4)\nmemory usage: 1.5+ MB\n",
     "output_type": "stream"
    }
   ],
   "execution_count": 88
  },
  {
   "cell_type": "markdown",
   "source": "411 observations were deleted from cleaning the dataset.",
   "metadata": {
    "tags": [],
    "cell_id": "00025-213502e3-ff3e-457d-a8bb-42e81d0ebce2",
    "deepnote_cell_type": "markdown"
   }
  },
  {
   "cell_type": "markdown",
   "source": "### End of Cleaning",
   "metadata": {
    "cell_id": "00024-f14c968a-28db-4f35-a0db-742a2d543743",
    "deepnote_cell_type": "markdown"
   }
  },
  {
   "cell_type": "markdown",
   "source": "## EDA questions\n1. What is the best performing platform of all time based on global sales?\n1. Is there a trend of global sales and regional sales throughout the years?\n1. What is the split in proportion of genres is the video game industry?",
   "metadata": {
    "cell_id": "00026-8de7905f-9b71-4c29-9026-a93f46f7e7ec",
    "deepnote_cell_type": "markdown"
   }
  },
  {
   "cell_type": "code",
   "metadata": {
    "cell_id": "00027-d51ea14b-0900-47f0-a9c7-749abd9330eb",
    "deepnote_to_be_reexecuted": false,
    "source_hash": "ffac3bc4",
    "execution_start": 1628493535673,
    "execution_millis": 21,
    "deepnote_cell_type": "code"
   },
   "source": "games['Platform'].unique()",
   "execution_count": 19,
   "outputs": [
    {
     "output_type": "execute_result",
     "execution_count": 19,
     "data": {
      "text/plain": "array(['Wii', 'NES', 'GB', 'DS', 'X360', 'PS3', 'PS2', 'SNES', 'GBA',\n       '3DS', 'PS4', 'N64', 'PS', 'XB', 'PC', '2600', 'PSP', 'XOne', 'GC',\n       'WiiU', 'GEN', 'DC', 'PSV', 'SAT', 'SCD', 'WS', 'NG', 'TG16',\n       '3DO', 'GG', 'PCFX'], dtype=object)"
     },
     "metadata": {}
    }
   ]
  },
  {
   "cell_type": "code",
   "metadata": {
    "collapsed": true,
    "cell_id": "00028-5d0f4dc7-08c6-4aa9-865f-d46935dedc51",
    "deepnote_to_be_reexecuted": false,
    "source_hash": "8eeb38eb",
    "execution_start": 1628493535699,
    "execution_millis": 50,
    "deepnote_cell_type": "code"
   },
   "source": "games['Name'].value_counts().loc[lambda x : x>6].to_frame()",
   "execution_count": 20,
   "outputs": [
    {
     "output_type": "execute_result",
     "execution_count": 20,
     "data": {
      "application/vnd.deepnote.dataframe.v2+json": {
       "row_count": 46,
       "column_count": 1,
       "columns": [
        {
         "name": "Name",
         "dtype": "int64",
         "stats": {
          "unique_count": 4,
          "nan_count": 0,
          "min": "7",
          "max": "12",
          "histogram": [
           {
            "bin_start": 7,
            "bin_end": 7.5,
            "count": 30
           },
           {
            "bin_start": 7.5,
            "bin_end": 8,
            "count": 0
           },
           {
            "bin_start": 8,
            "bin_end": 8.5,
            "count": 12
           },
           {
            "bin_start": 8.5,
            "bin_end": 9,
            "count": 0
           },
           {
            "bin_start": 9,
            "bin_end": 9.5,
            "count": 3
           },
           {
            "bin_start": 9.5,
            "bin_end": 10,
            "count": 0
           },
           {
            "bin_start": 10,
            "bin_end": 10.5,
            "count": 0
           },
           {
            "bin_start": 10.5,
            "bin_end": 11,
            "count": 0
           },
           {
            "bin_start": 11,
            "bin_end": 11.5,
            "count": 0
           },
           {
            "bin_start": 11.5,
            "bin_end": 12,
            "count": 1
           }
          ]
         }
        },
        {
         "name": "_deepnote_index_column",
         "dtype": "object"
        }
       ],
       "rows_top": [
        {
         "Name": 12,
         "_deepnote_index_column": "Need for Speed: Most Wanted"
        },
        {
         "Name": 9,
         "_deepnote_index_column": "LEGO Marvel Super Heroes"
        },
        {
         "Name": 9,
         "_deepnote_index_column": "Ratatouille"
        },
        {
         "Name": 9,
         "_deepnote_index_column": "FIFA 14"
        },
        {
         "Name": 8,
         "_deepnote_index_column": "The LEGO Movie Videogame"
        },
        {
         "Name": 8,
         "_deepnote_index_column": "Madden NFL 08"
        },
        {
         "Name": 8,
         "_deepnote_index_column": "Angry Birds Star Wars"
        },
        {
         "Name": 8,
         "_deepnote_index_column": "Monopoly"
        },
        {
         "Name": 8,
         "_deepnote_index_column": "LEGO The Hobbit"
        },
        {
         "Name": 8,
         "_deepnote_index_column": "FIFA Soccer 13"
        },
        {
         "Name": 8,
         "_deepnote_index_column": "Cars"
        },
        {
         "Name": 8,
         "_deepnote_index_column": "Lego Batman 3: Beyond Gotham"
        },
        {
         "Name": 8,
         "_deepnote_index_column": "FIFA 15"
        },
        {
         "Name": 8,
         "_deepnote_index_column": "LEGO Jurassic World"
        },
        {
         "Name": 8,
         "_deepnote_index_column": "Madden NFL 07"
        },
        {
         "Name": 8,
         "_deepnote_index_column": "LEGO Star Wars II: The Original Trilogy"
        },
        {
         "Name": 7,
         "_deepnote_index_column": "Skylanders: Trap Team"
        },
        {
         "Name": 7,
         "_deepnote_index_column": "Surf's Up"
        },
        {
         "Name": 7,
         "_deepnote_index_column": "Tomb Raider: Legend"
        },
        {
         "Name": 7,
         "_deepnote_index_column": "FIFA 12"
        },
        {
         "Name": 7,
         "_deepnote_index_column": "Lego Star Wars: The Force Awakens"
        },
        {
         "Name": 7,
         "_deepnote_index_column": "Terraria"
        },
        {
         "Name": 7,
         "_deepnote_index_column": "Star Wars The Clone Wars: Republic Heroes"
        },
        {
         "Name": 7,
         "_deepnote_index_column": "Spider-Man 3"
        },
        {
         "Name": 7,
         "_deepnote_index_column": "Wall-E"
        },
        {
         "Name": 7,
         "_deepnote_index_column": "FIFA Soccer 11"
        },
        {
         "Name": 7,
         "_deepnote_index_column": "Need for Speed: ProStreet"
        },
        {
         "Name": 7,
         "_deepnote_index_column": "LEGO Pirates of the Caribbean: The Video Game"
        },
        {
         "Name": 7,
         "_deepnote_index_column": "Pro Evolution Soccer 2012"
        },
        {
         "Name": 7,
         "_deepnote_index_column": "LEGO Batman 2: DC Super Heroes"
        },
        {
         "Name": 7,
         "_deepnote_index_column": "LEGO The Lord of the Rings"
        },
        {
         "Name": 7,
         "_deepnote_index_column": "Skylanders SWAP Force"
        },
        {
         "Name": 7,
         "_deepnote_index_column": "The Sims 2"
        },
        {
         "Name": 7,
         "_deepnote_index_column": "FIFA Soccer 08"
        },
        {
         "Name": 7,
         "_deepnote_index_column": "LEGO Marvel's Avengers"
        },
        {
         "Name": 7,
         "_deepnote_index_column": "LEGO Star Wars III: The Clone Wars"
        },
        {
         "Name": 7,
         "_deepnote_index_column": "Major League Baseball 2K11"
        },
        {
         "Name": 7,
         "_deepnote_index_column": "The Amazing Spider-Man 2 (2014)"
        },
        {
         "Name": 7,
         "_deepnote_index_column": "FIFA Soccer 10"
        },
        {
         "Name": 7,
         "_deepnote_index_column": "Need For Speed: Undercover"
        },
        {
         "Name": 7,
         "_deepnote_index_column": "Need for Speed Carbon"
        },
        {
         "Name": 7,
         "_deepnote_index_column": "Harry Potter and the Sorcerer's Stone"
        },
        {
         "Name": 7,
         "_deepnote_index_column": "Skylanders: SuperChargers"
        },
        {
         "Name": 7,
         "_deepnote_index_column": "NBA Jam"
        },
        {
         "Name": 7,
         "_deepnote_index_column": "Harry Potter and the Half-Blood Prince"
        },
        {
         "Name": 7,
         "_deepnote_index_column": "Harry Potter and the Order of the Phoenix"
        }
       ],
       "rows_bottom": null
      },
      "text/plain": "                                               Name\nNeed for Speed: Most Wanted                      12\nLEGO Marvel Super Heroes                          9\nRatatouille                                       9\nFIFA 14                                           9\nThe LEGO Movie Videogame                          8\nMadden NFL 08                                     8\nAngry Birds Star Wars                             8\nMonopoly                                          8\nLEGO The Hobbit                                   8\nFIFA Soccer 13                                    8\nCars                                              8\nLego Batman 3: Beyond Gotham                      8\nFIFA 15                                           8\nLEGO Jurassic World                               8\nMadden NFL 07                                     8\nLEGO Star Wars II: The Original Trilogy           8\nSkylanders: Trap Team                             7\nSurf's Up                                         7\nTomb Raider: Legend                               7\nFIFA 12                                           7\nLego Star Wars: The Force Awakens                 7\nTerraria                                          7\nStar Wars The Clone Wars: Republic Heroes         7\nSpider-Man 3                                      7\nWall-E                                            7\nFIFA Soccer 11                                    7\nNeed for Speed: ProStreet                         7\nLEGO Pirates of the Caribbean: The Video Game     7\nPro Evolution Soccer 2012                         7\nLEGO Batman 2: DC Super Heroes                    7\nLEGO The Lord of the Rings                        7\nSkylanders SWAP Force                             7\nThe Sims 2                                        7\nFIFA Soccer 08                                    7\nLEGO Marvel's Avengers                            7\nLEGO Star Wars III: The Clone Wars                7\nMajor League Baseball 2K11                        7\nThe Amazing Spider-Man 2 (2014)                   7\nFIFA Soccer 10                                    7\nNeed For Speed: Undercover                        7\nNeed for Speed Carbon                             7\nHarry Potter and the Sorcerer's Stone             7\nSkylanders: SuperChargers                         7\nNBA Jam                                           7\nHarry Potter and the Half-Blood Prince            7\nHarry Potter and the Order of the Phoenix         7",
      "text/html": "<div>\n<style scoped>\n    .dataframe tbody tr th:only-of-type {\n        vertical-align: middle;\n    }\n\n    .dataframe tbody tr th {\n        vertical-align: top;\n    }\n\n    .dataframe thead th {\n        text-align: right;\n    }\n</style>\n<table border=\"1\" class=\"dataframe\">\n  <thead>\n    <tr style=\"text-align: right;\">\n      <th></th>\n      <th>Name</th>\n    </tr>\n  </thead>\n  <tbody>\n    <tr>\n      <th>Need for Speed: Most Wanted</th>\n      <td>12</td>\n    </tr>\n    <tr>\n      <th>LEGO Marvel Super Heroes</th>\n      <td>9</td>\n    </tr>\n    <tr>\n      <th>Ratatouille</th>\n      <td>9</td>\n    </tr>\n    <tr>\n      <th>FIFA 14</th>\n      <td>9</td>\n    </tr>\n    <tr>\n      <th>The LEGO Movie Videogame</th>\n      <td>8</td>\n    </tr>\n    <tr>\n      <th>Madden NFL 08</th>\n      <td>8</td>\n    </tr>\n    <tr>\n      <th>Angry Birds Star Wars</th>\n      <td>8</td>\n    </tr>\n    <tr>\n      <th>Monopoly</th>\n      <td>8</td>\n    </tr>\n    <tr>\n      <th>LEGO The Hobbit</th>\n      <td>8</td>\n    </tr>\n    <tr>\n      <th>FIFA Soccer 13</th>\n      <td>8</td>\n    </tr>\n    <tr>\n      <th>Cars</th>\n      <td>8</td>\n    </tr>\n    <tr>\n      <th>Lego Batman 3: Beyond Gotham</th>\n      <td>8</td>\n    </tr>\n    <tr>\n      <th>FIFA 15</th>\n      <td>8</td>\n    </tr>\n    <tr>\n      <th>LEGO Jurassic World</th>\n      <td>8</td>\n    </tr>\n    <tr>\n      <th>Madden NFL 07</th>\n      <td>8</td>\n    </tr>\n    <tr>\n      <th>LEGO Star Wars II: The Original Trilogy</th>\n      <td>8</td>\n    </tr>\n    <tr>\n      <th>Skylanders: Trap Team</th>\n      <td>7</td>\n    </tr>\n    <tr>\n      <th>Surf's Up</th>\n      <td>7</td>\n    </tr>\n    <tr>\n      <th>Tomb Raider: Legend</th>\n      <td>7</td>\n    </tr>\n    <tr>\n      <th>FIFA 12</th>\n      <td>7</td>\n    </tr>\n    <tr>\n      <th>Lego Star Wars: The Force Awakens</th>\n      <td>7</td>\n    </tr>\n    <tr>\n      <th>Terraria</th>\n      <td>7</td>\n    </tr>\n    <tr>\n      <th>Star Wars The Clone Wars: Republic Heroes</th>\n      <td>7</td>\n    </tr>\n    <tr>\n      <th>Spider-Man 3</th>\n      <td>7</td>\n    </tr>\n    <tr>\n      <th>Wall-E</th>\n      <td>7</td>\n    </tr>\n    <tr>\n      <th>FIFA Soccer 11</th>\n      <td>7</td>\n    </tr>\n    <tr>\n      <th>Need for Speed: ProStreet</th>\n      <td>7</td>\n    </tr>\n    <tr>\n      <th>LEGO Pirates of the Caribbean: The Video Game</th>\n      <td>7</td>\n    </tr>\n    <tr>\n      <th>Pro Evolution Soccer 2012</th>\n      <td>7</td>\n    </tr>\n    <tr>\n      <th>LEGO Batman 2: DC Super Heroes</th>\n      <td>7</td>\n    </tr>\n    <tr>\n      <th>LEGO The Lord of the Rings</th>\n      <td>7</td>\n    </tr>\n    <tr>\n      <th>Skylanders SWAP Force</th>\n      <td>7</td>\n    </tr>\n    <tr>\n      <th>The Sims 2</th>\n      <td>7</td>\n    </tr>\n    <tr>\n      <th>FIFA Soccer 08</th>\n      <td>7</td>\n    </tr>\n    <tr>\n      <th>LEGO Marvel's Avengers</th>\n      <td>7</td>\n    </tr>\n    <tr>\n      <th>LEGO Star Wars III: The Clone Wars</th>\n      <td>7</td>\n    </tr>\n    <tr>\n      <th>Major League Baseball 2K11</th>\n      <td>7</td>\n    </tr>\n    <tr>\n      <th>The Amazing Spider-Man 2 (2014)</th>\n      <td>7</td>\n    </tr>\n    <tr>\n      <th>FIFA Soccer 10</th>\n      <td>7</td>\n    </tr>\n    <tr>\n      <th>Need For Speed: Undercover</th>\n      <td>7</td>\n    </tr>\n    <tr>\n      <th>Need for Speed Carbon</th>\n      <td>7</td>\n    </tr>\n    <tr>\n      <th>Harry Potter and the Sorcerer's Stone</th>\n      <td>7</td>\n    </tr>\n    <tr>\n      <th>Skylanders: SuperChargers</th>\n      <td>7</td>\n    </tr>\n    <tr>\n      <th>NBA Jam</th>\n      <td>7</td>\n    </tr>\n    <tr>\n      <th>Harry Potter and the Half-Blood Prince</th>\n      <td>7</td>\n    </tr>\n    <tr>\n      <th>Harry Potter and the Order of the Phoenix</th>\n      <td>7</td>\n    </tr>\n  </tbody>\n</table>\n</div>"
     },
     "metadata": {}
    }
   ]
  },
  {
   "cell_type": "markdown",
   "source": "### EDA Question 1:",
   "metadata": {
    "cell_id": "00029-5024dc97-f27c-4ffc-a6d3-8dd9c1dc723c",
    "deepnote_cell_type": "markdown"
   }
  },
  {
   "cell_type": "code",
   "metadata": {
    "collapsed": true,
    "cell_id": "00030-739605b3-62bd-433f-bacd-ee66a8fc783f",
    "deepnote_to_be_reexecuted": false,
    "source_hash": "de5dd0ac",
    "execution_start": 1628493535752,
    "execution_millis": 23,
    "deepnote_cell_type": "code"
   },
   "source": "games[\"Platform\"].value_counts().sort_values(ascending = False)",
   "execution_count": 21,
   "outputs": [
    {
     "output_type": "execute_result",
     "execution_count": 21,
     "data": {
      "text/plain": "PS2     2124\nDS      2108\nPS3     1294\nWii     1278\nX360    1230\nPSP     1190\nPS      1187\nPC       919\nXB       803\nGBA      780\nGC       541\n3DS      494\nPSV      404\nPS4      335\nN64      316\nSNES     239\nXOne     212\nSAT      173\nWiiU     143\n2600     115\nNES       98\nGB        97\nDC        52\nGEN       27\nNG        12\nSCD        6\nWS         6\n3DO        3\nTG16       2\nGG         1\nPCFX       1\nName: Platform, dtype: int64"
     },
     "metadata": {}
    }
   ]
  },
  {
   "cell_type": "markdown",
   "source": "#### Short Analysis\nIt Appears that PS2 has the largest amount of games in the dataset, While PCFX only having one game.",
   "metadata": {
    "cell_id": "00031-d673b2cd-07b9-4777-a12e-92880825d026",
    "deepnote_cell_type": "markdown"
   }
  },
  {
   "cell_type": "code",
   "metadata": {
    "collapsed": true,
    "cell_id": "00032-92f18d82-11d0-4bac-b5fa-802ca257bc71",
    "deepnote_to_be_reexecuted": false,
    "source_hash": "66b22a88",
    "execution_start": 1628493535779,
    "execution_millis": 1566,
    "deepnote_cell_type": "code"
   },
   "source": "games_temp = games.groupby(games.Platform)[\"Global_Sales\"].sum()\n\nsns.set_theme(style=\"whitegrid\")\nplt.figure(figsize=(20,20)) \nax = sns.barplot(y=games_temp.index,x=games_temp.values)\nax.bar_label(ax.containers[0])\nax.set_xlabel(\"Global Sales (Millions)\")\nax.set_title(\"Total of Global Sales\")\n",
   "execution_count": 22,
   "outputs": [
    {
     "output_type": "execute_result",
     "execution_count": 22,
     "data": {
      "text/plain": "Text(0.5, 1.0, 'Total of Global Sales')"
     },
     "metadata": {}
    },
    {
     "data": {
      "text/plain": "<Figure size 1440x1440 with 1 Axes>",
      "image/png": "[encoded data removed]"
     },
     "metadata": {
      "image/png": {
       "width": 1186,
       "height": 1154
      }
     },
     "output_type": "display_data"
    }
   ]
  },
  {
   "cell_type": "code",
   "metadata": {
    "collapsed": true,
    "cell_id": "00033-a2d25e91-0434-435a-827d-bf09a684a83b",
    "deepnote_to_be_reexecuted": false,
    "source_hash": "d7ee8fd5",
    "execution_start": 1628493537354,
    "execution_millis": 13,
    "deepnote_cell_type": "code"
   },
   "source": "games.groupby(\"Platform\")[\"Global_Sales\"].sum().sort_values(ascending = False)",
   "execution_count": 23,
   "outputs": []
  },
  {
   "cell_type": "markdown",
   "source": "#### Analysis\nIt appears that PS2 has the largest amount of sales despite being an younger platform compared to other platforms that are older and have also been well received from the market. This may be due it being one of the first platforms allowing \"couch-play\" as compared to its predecessors.",
   "metadata": {
    "cell_id": "00034-26cdd4cc-b265-4ab6-a6ea-809c72ca9993",
    "deepnote_cell_type": "markdown"
   }
  },
  {
   "cell_type": "code",
   "metadata": {
    "collapsed": true,
    "cell_id": "00035-037c938e-4101-4d49-98ec-82501f847b83",
    "deepnote_to_be_reexecuted": false,
    "source_hash": "3c6a59e4",
    "execution_start": 1628493537372,
    "execution_millis": 3197,
    "deepnote_cell_type": "code"
   },
   "source": "# Wii and some other platforms are prolly bugged?\n# Changed Scaling to Hundred Millions for X Label\nsns.set_theme(style=\"whitegrid\")\nplt.figure(figsize=(20,20)) \nax = sns.barplot(x=\"Global_Sales\",y=\"Platform\",data = games,errcolor=\"Gray\",errwidth = .8)\nax.bar_label(ax.containers[0])\nax.set_xlabel(\"Global Sales (Millions)\")\nax.set_title(\"Average of Global Sales\")",
   "execution_count": 24,
   "outputs": [
    {
     "output_type": "execute_result",
     "execution_count": 24,
     "data": {
      "text/plain": "Text(0.5, 1.0, 'Average of Global Sales')"
     },
     "metadata": {}
    },
    {
     "data": {
      "text/plain": "<Figure size 1440x1440 with 1 Axes>",
      "image/png": "[encoded data removed]"
     },
     "metadata": {
      "image/png": {
       "width": 1186,
       "height": 1154
      }
     },
     "output_type": "display_data"
    }
   ]
  },
  {
   "cell_type": "code",
   "metadata": {
    "collapsed": true,
    "cell_id": "00036-b1465834-0b0a-4cdc-a94f-5c33673ef903",
    "deepnote_to_be_reexecuted": false,
    "source_hash": "c404c9c0",
    "execution_start": 1628493540577,
    "execution_millis": 18,
    "deepnote_cell_type": "code"
   },
   "source": "games.groupby(\"Platform\")[\"Global_Sales\"].mean().sort_values(ascending = False)",
   "execution_count": 25,
   "outputs": [
    {
     "output_type": "execute_result",
     "execution_count": 25,
     "data": {
      "text/plain": "Platform\nGB      2.622887\nNES     2.561939\nGEN     1.050370\nSNES    0.837029\nPS4     0.829910\nX360    0.787561\n2600    0.750261\nPS3     0.732620\nWii     0.711291\nN64     0.690538\nXOne    0.665236\nPS      0.611980\nPS2     0.579421\nWiiU    0.572448\n3DS     0.497591\nGBA     0.390115\nDS      0.387780\nGC      0.364214\nXB      0.313935\nSCD     0.311667\nDC      0.307115\nPC      0.275626\nPSP     0.243529\nWS      0.236667\nSAT     0.194162\nPSV     0.152228\nNG      0.120000\nTG16    0.080000\nGG      0.040000\n3DO     0.033333\nPCFX    0.030000\nName: Global_Sales, dtype: float64"
     },
     "metadata": {}
    }
   ]
  },
  {
   "cell_type": "code",
   "metadata": {
    "cell_id": "00037-b178e74d-af4f-4e93-8111-43f89bbdc8fd",
    "deepnote_to_be_reexecuted": false,
    "source_hash": "90c06957",
    "execution_start": 1628493540600,
    "execution_millis": 77,
    "deepnote_cell_type": "code"
   },
   "source": "games.loc[games[\"Platform\"] == \"GB\"].head()",
   "execution_count": 26,
   "outputs": [
    {
     "output_type": "execute_result",
     "execution_count": 26,
     "data": {
      "application/vnd.deepnote.dataframe.v2+json": {
       "row_count": 5,
       "column_count": 11,
       "columns": [
        {
         "name": "Rank",
         "dtype": "int64",
         "stats": {
          "unique_count": 5,
          "nan_count": 0,
          "min": "5",
          "max": "31",
          "histogram": [
           {
            "bin_start": 5,
            "bin_end": 7.6,
            "count": 2
           },
           {
            "bin_start": 7.6,
            "bin_end": 10.2,
            "count": 0
           },
           {
            "bin_start": 10.2,
            "bin_end": 12.8,
            "count": 0
           },
           {
            "bin_start": 12.8,
            "bin_end": 15.4,
            "count": 1
           },
           {
            "bin_start": 15.4,
            "bin_end": 18,
            "count": 0
           },
           {
            "bin_start": 18,
            "bin_end": 20.6,
            "count": 0
           },
           {
            "bin_start": 20.6,
            "bin_end": 23.2,
            "count": 1
           },
           {
            "bin_start": 23.2,
            "bin_end": 25.8,
            "count": 0
           },
           {
            "bin_start": 25.8,
            "bin_end": 28.400000000000002,
            "count": 0
           },
           {
            "bin_start": 28.400000000000002,
            "bin_end": 31,
            "count": 1
           }
          ]
         }
        },
        {
         "name": "Name",
         "dtype": "object",
         "stats": {
          "unique_count": 5,
          "nan_count": 0,
          "categories": [
           {
            "name": "Pokemon Red/Pokemon Blue",
            "count": 1
           },
           {
            "name": "Tetris",
            "count": 1
           },
           {
            "name": "3 others",
            "count": 3
           }
          ]
         }
        },
        {
         "name": "Platform",
         "dtype": "object",
         "stats": {
          "unique_count": 1,
          "nan_count": 0,
          "categories": [
           {
            "name": "GB",
            "count": 5
           }
          ]
         }
        },
        {
         "name": "Year",
         "dtype": "float64",
         "stats": {
          "unique_count": 4,
          "nan_count": 0,
          "min": "1989.0",
          "max": "1999.0",
          "histogram": [
           {
            "bin_start": 1989,
            "bin_end": 1990,
            "count": 2
           },
           {
            "bin_start": 1990,
            "bin_end": 1991,
            "count": 0
           },
           {
            "bin_start": 1991,
            "bin_end": 1992,
            "count": 0
           },
           {
            "bin_start": 1992,
            "bin_end": 1993,
            "count": 0
           },
           {
            "bin_start": 1993,
            "bin_end": 1994,
            "count": 0
           },
           {
            "bin_start": 1994,
            "bin_end": 1995,
            "count": 0
           },
           {
            "bin_start": 1995,
            "bin_end": 1996,
            "count": 0
           },
           {
            "bin_start": 1996,
            "bin_end": 1997,
            "count": 1
           },
           {
            "bin_start": 1997,
            "bin_end": 1998,
            "count": 0
           },
           {
            "bin_start": 1998,
            "bin_end": 1999,
            "count": 2
           }
          ]
         }
        },
        {
         "name": "Genre",
         "dtype": "object",
         "stats": {
          "unique_count": 3,
          "nan_count": 0,
          "categories": [
           {
            "name": "Role-Playing",
            "count": 3
           },
           {
            "name": "Puzzle",
            "count": 1
           },
           {
            "name": "Platform",
            "count": 1
           }
          ]
         }
        },
        {
         "name": "Publisher",
         "dtype": "object",
         "stats": {
          "unique_count": 1,
          "nan_count": 0,
          "categories": [
           {
            "name": "Nintendo",
            "count": 5
           }
          ]
         }
        },
        {
         "name": "NA_Sales",
         "dtype": "float64",
         "stats": {
          "unique_count": 5,
          "nan_count": 0,
          "min": "5.89",
          "max": "23.2",
          "histogram": [
           {
            "bin_start": 5.89,
            "bin_end": 7.6209999999999996,
            "count": 1
           },
           {
            "bin_start": 7.6209999999999996,
            "bin_end": 9.352,
            "count": 1
           },
           {
            "bin_start": 9.352,
            "bin_end": 11.082999999999998,
            "count": 1
           },
           {
            "bin_start": 11.082999999999998,
            "bin_end": 12.814,
            "count": 1
           },
           {
            "bin_start": 12.814,
            "bin_end": 14.544999999999998,
            "count": 0
           },
           {
            "bin_start": 14.544999999999998,
            "bin_end": 16.276,
            "count": 0
           },
           {
            "bin_start": 16.276,
            "bin_end": 18.006999999999998,
            "count": 0
           },
           {
            "bin_start": 18.006999999999998,
            "bin_end": 19.738,
            "count": 0
           },
           {
            "bin_start": 19.738,
            "bin_end": 21.468999999999998,
            "count": 0
           },
           {
            "bin_start": 21.468999999999998,
            "bin_end": 23.2,
            "count": 1
           }
          ]
         }
        },
        {
         "name": "EU_Sales",
         "dtype": "float64",
         "stats": {
          "unique_count": 5,
          "nan_count": 0,
          "min": "2.26",
          "max": "8.89",
          "histogram": [
           {
            "bin_start": 2.26,
            "bin_end": 2.923,
            "count": 2
           },
           {
            "bin_start": 2.923,
            "bin_end": 3.586,
            "count": 0
           },
           {
            "bin_start": 3.586,
            "bin_end": 4.249,
            "count": 0
           },
           {
            "bin_start": 4.249,
            "bin_end": 4.912,
            "count": 0
           },
           {
            "bin_start": 4.912,
            "bin_end": 5.575,
            "count": 1
           },
           {
            "bin_start": 5.575,
            "bin_end": 6.2379999999999995,
            "count": 1
           },
           {
            "bin_start": 6.2379999999999995,
            "bin_end": 6.901,
            "count": 0
           },
           {
            "bin_start": 6.901,
            "bin_end": 7.564,
            "count": 0
           },
           {
            "bin_start": 7.564,
            "bin_end": 8.227,
            "count": 0
           },
           {
            "bin_start": 8.227,
            "bin_end": 8.89,
            "count": 1
           }
          ]
         }
        },
        {
         "name": "JP_Sales",
         "dtype": "float64",
         "stats": {
          "unique_count": 5,
          "nan_count": 0,
          "min": "3.12",
          "max": "10.22",
          "histogram": [
           {
            "bin_start": 3.12,
            "bin_end": 3.83,
            "count": 1
           },
           {
            "bin_start": 3.83,
            "bin_end": 4.54,
            "count": 2
           },
           {
            "bin_start": 4.54,
            "bin_end": 5.25,
            "count": 0
           },
           {
            "bin_start": 5.25,
            "bin_end": 5.960000000000001,
            "count": 0
           },
           {
            "bin_start": 5.960000000000001,
            "bin_end": 6.67,
            "count": 0
           },
           {
            "bin_start": 6.67,
            "bin_end": 7.380000000000001,
            "count": 1
           },
           {
            "bin_start": 7.380000000000001,
            "bin_end": 8.09,
            "count": 0
           },
           {
            "bin_start": 8.09,
            "bin_end": 8.8,
            "count": 0
           },
           {
            "bin_start": 8.8,
            "bin_end": 9.510000000000002,
            "count": 0
           },
           {
            "bin_start": 9.510000000000002,
            "bin_end": 10.22,
            "count": 1
           }
          ]
         }
        },
        {
         "name": "Other_Sales",
         "dtype": "float64",
         "stats": {
          "unique_count": 5,
          "nan_count": 0,
          "min": "0.42",
          "max": "1.0",
          "histogram": [
           {
            "bin_start": 0.42,
            "bin_end": 0.478,
            "count": 1
           },
           {
            "bin_start": 0.478,
            "bin_end": 0.536,
            "count": 0
           },
           {
            "bin_start": 0.536,
            "bin_end": 0.5940000000000001,
            "count": 2
           },
           {
            "bin_start": 0.5940000000000001,
            "bin_end": 0.652,
            "count": 0
           },
           {
            "bin_start": 0.652,
            "bin_end": 0.71,
            "count": 0
           },
           {
            "bin_start": 0.71,
            "bin_end": 0.768,
            "count": 1
           },
           {
            "bin_start": 0.768,
            "bin_end": 0.8260000000000001,
            "count": 0
           },
           {
            "bin_start": 0.8260000000000001,
            "bin_end": 0.8840000000000001,
            "count": 0
           },
           {
            "bin_start": 0.8840000000000001,
            "bin_end": 0.9420000000000002,
            "count": 0
           },
           {
            "bin_start": 0.9420000000000002,
            "bin_end": 1,
            "count": 1
           }
          ]
         }
        },
        {
         "name": "Global_Sales",
         "dtype": "float64",
         "stats": {
          "unique_count": 5,
          "nan_count": 0,
          "min": "14.64",
          "max": "31.37",
          "histogram": [
           {
            "bin_start": 14.64,
            "bin_end": 16.313000000000002,
            "count": 1
           },
           {
            "bin_start": 16.313000000000002,
            "bin_end": 17.986,
            "count": 0
           },
           {
            "bin_start": 17.986,
            "bin_end": 19.659,
            "count": 1
           },
           {
            "bin_start": 19.659,
            "bin_end": 21.332,
            "count": 0
           },
           {
            "bin_start": 21.332,
            "bin_end": 23.005000000000003,
            "count": 0
           },
           {
            "bin_start": 23.005000000000003,
            "bin_end": 24.678,
            "count": 1
           },
           {
            "bin_start": 24.678,
            "bin_end": 26.351,
            "count": 0
           },
           {
            "bin_start": 26.351,
            "bin_end": 28.024,
            "count": 0
           },
           {
            "bin_start": 28.024,
            "bin_end": 29.697000000000003,
            "count": 0
           },
           {
            "bin_start": 29.697000000000003,
            "bin_end": 31.37,
            "count": 2
           }
          ]
         }
        },
        {
         "name": "_deepnote_index_column",
         "dtype": "int64"
        }
       ],
       "rows_top": [
        {
         "Rank": 5,
         "Name": "Pokemon Red/Pokemon Blue",
         "Platform": "GB",
         "Year": 1996,
         "Genre": "Role-Playing",
         "Publisher": "Nintendo",
         "NA_Sales": 11.27,
         "EU_Sales": 8.89,
         "JP_Sales": 10.22,
         "Other_Sales": 1,
         "Global_Sales": 31.37,
         "_deepnote_index_column": 4
        },
        {
         "Rank": 6,
         "Name": "Tetris",
         "Platform": "GB",
         "Year": 1989,
         "Genre": "Puzzle",
         "Publisher": "Nintendo",
         "NA_Sales": 23.2,
         "EU_Sales": 2.26,
         "JP_Sales": 4.22,
         "Other_Sales": 0.58,
         "Global_Sales": 30.26,
         "_deepnote_index_column": 5
        },
        {
         "Rank": 13,
         "Name": "Pokemon Gold/Pokemon Silver",
         "Platform": "GB",
         "Year": 1999,
         "Genre": "Role-Playing",
         "Publisher": "Nintendo",
         "NA_Sales": 9,
         "EU_Sales": 6.18,
         "JP_Sales": 7.2,
         "Other_Sales": 0.71,
         "Global_Sales": 23.1,
         "_deepnote_index_column": 12
        },
        {
         "Rank": 22,
         "Name": "Super Mario Land",
         "Platform": "GB",
         "Year": 1989,
         "Genre": "Platform",
         "Publisher": "Nintendo",
         "NA_Sales": 10.83,
         "EU_Sales": 2.71,
         "JP_Sales": 4.18,
         "Other_Sales": 0.42,
         "Global_Sales": 18.14,
         "_deepnote_index_column": 21
        },
        {
         "Rank": 31,
         "Name": "Pokémon Yellow: Special Pikachu Edition",
         "Platform": "GB",
         "Year": 1998,
         "Genre": "Role-Playing",
         "Publisher": "Nintendo",
         "NA_Sales": 5.89,
         "EU_Sales": 5.04,
         "JP_Sales": 3.12,
         "Other_Sales": 0.59,
         "Global_Sales": 14.64,
         "_deepnote_index_column": 30
        }
       ],
       "rows_bottom": null
      },
      "text/plain": "    Rank                                     Name Platform    Year  \\\n4      5                 Pokemon Red/Pokemon Blue       GB  1996.0   \n5      6                                   Tetris       GB  1989.0   \n12    13              Pokemon Gold/Pokemon Silver       GB  1999.0   \n21    22                         Super Mario Land       GB  1989.0   \n30    31  Pokémon Yellow: Special Pikachu Edition       GB  1998.0   \n\n           Genre Publisher  NA_Sales  EU_Sales  JP_Sales  Other_Sales  \\\n4   Role-Playing  Nintendo     11.27      8.89     10.22         1.00   \n5         Puzzle  Nintendo     23.20      2.26      4.22         0.58   \n12  Role-Playing  Nintendo      9.00      6.18      7.20         0.71   \n21      Platform  Nintendo     10.83      2.71      4.18         0.42   \n30  Role-Playing  Nintendo      5.89      5.04      3.12         0.59   \n\n    Global_Sales  \n4          31.37  \n5          30.26  \n12         23.10  \n21         18.14  \n30         14.64  ",
      "text/html": "<div>\n<style scoped>\n    .dataframe tbody tr th:only-of-type {\n        vertical-align: middle;\n    }\n\n    .dataframe tbody tr th {\n        vertical-align: top;\n    }\n\n    .dataframe thead th {\n        text-align: right;\n    }\n</style>\n<table border=\"1\" class=\"dataframe\">\n  <thead>\n    <tr style=\"text-align: right;\">\n      <th></th>\n      <th>Rank</th>\n      <th>Name</th>\n      <th>Platform</th>\n      <th>Year</th>\n      <th>Genre</th>\n      <th>Publisher</th>\n      <th>NA_Sales</th>\n      <th>EU_Sales</th>\n      <th>JP_Sales</th>\n      <th>Other_Sales</th>\n      <th>Global_Sales</th>\n    </tr>\n  </thead>\n  <tbody>\n    <tr>\n      <th>4</th>\n      <td>5</td>\n      <td>Pokemon Red/Pokemon Blue</td>\n      <td>GB</td>\n      <td>1996.0</td>\n      <td>Role-Playing</td>\n      <td>Nintendo</td>\n      <td>11.27</td>\n      <td>8.89</td>\n      <td>10.22</td>\n      <td>1.00</td>\n      <td>31.37</td>\n    </tr>\n    <tr>\n      <th>5</th>\n      <td>6</td>\n      <td>Tetris</td>\n      <td>GB</td>\n      <td>1989.0</td>\n      <td>Puzzle</td>\n      <td>Nintendo</td>\n      <td>23.20</td>\n      <td>2.26</td>\n      <td>4.22</td>\n      <td>0.58</td>\n      <td>30.26</td>\n    </tr>\n    <tr>\n      <th>12</th>\n      <td>13</td>\n      <td>Pokemon Gold/Pokemon Silver</td>\n      <td>GB</td>\n      <td>1999.0</td>\n      <td>Role-Playing</td>\n      <td>Nintendo</td>\n      <td>9.00</td>\n      <td>6.18</td>\n      <td>7.20</td>\n      <td>0.71</td>\n      <td>23.10</td>\n    </tr>\n    <tr>\n      <th>21</th>\n      <td>22</td>\n      <td>Super Mario Land</td>\n      <td>GB</td>\n      <td>1989.0</td>\n      <td>Platform</td>\n      <td>Nintendo</td>\n      <td>10.83</td>\n      <td>2.71</td>\n      <td>4.18</td>\n      <td>0.42</td>\n      <td>18.14</td>\n    </tr>\n    <tr>\n      <th>30</th>\n      <td>31</td>\n      <td>Pokémon Yellow: Special Pikachu Edition</td>\n      <td>GB</td>\n      <td>1998.0</td>\n      <td>Role-Playing</td>\n      <td>Nintendo</td>\n      <td>5.89</td>\n      <td>5.04</td>\n      <td>3.12</td>\n      <td>0.59</td>\n      <td>14.64</td>\n    </tr>\n  </tbody>\n</table>\n</div>"
     },
     "metadata": {}
    }
   ]
  },
  {
   "cell_type": "markdown",
   "source": "#### Average of Sales based on Platform\nIt appears that the Gameboy has the best average of sales among the games, being able to provide to a large audience with its variety of genres and it being one of the first handheld consoles, allowing people to play it on the go, along with most of its top scoring games either be classics such as Tetris or the famous Pokemon series.",
   "metadata": {
    "cell_id": "00038-2974fd32-efe7-4d55-8c58-b96de4e7e787",
    "deepnote_cell_type": "markdown"
   }
  },
  {
   "cell_type": "markdown",
   "source": "### EDA Question 2",
   "metadata": {
    "cell_id": "00039-415b85b2-e9b9-4aa5-ba14-46814c10bae9",
    "deepnote_cell_type": "markdown"
   }
  },
  {
   "cell_type": "code",
   "metadata": {
    "collapsed": true,
    "cell_id": "00040-80de2b41-baa3-43c1-b717-028046f9d1ee",
    "deepnote_to_be_reexecuted": false,
    "source_hash": "f71251bb",
    "execution_start": 1628493540769,
    "execution_millis": 1330,
    "deepnote_cell_type": "code"
   },
   "source": "games_temp = games.groupby([\"Year\"]).sum()\ngames_temp.drop(columns = [\"Global_Sales\",\"Rank\"],inplace = True)\n\nsns.set_theme(style=\"whitegrid\")\nplt.figure(figsize=(15,15)) \nax = sns.lineplot(data = games_temp)\nax.set_xticks(range(1980,2020))\nplt.xticks(rotation = 90)\nax.set_xlim(1980,2018)",
   "execution_count": 27,
   "outputs": [
    {
     "output_type": "execute_result",
     "execution_count": 27,
     "data": {
      "text/plain": "(1980.0, 2018.0)"
     },
     "metadata": {}
    },
    {
     "data": {
      "text/plain": "<Figure size 1080x1080 with 1 Axes>",
      "image/png": "[encoded data removed]"
     },
     "metadata": {
      "image/png": {
       "width": 886,
       "height": 884
      }
     },
     "output_type": "display_data"
    }
   ]
  },
  {
   "cell_type": "code",
   "metadata": {
    "collapsed": true,
    "cell_id": "00041-66fc3637-4b7a-45d6-bc4e-24becd6c8cad",
    "deepnote_to_be_reexecuted": false,
    "source_hash": "ec2dc615",
    "execution_start": 1628493542104,
    "execution_millis": 1041,
    "deepnote_cell_type": "code"
   },
   "source": "games_temp = games.groupby([\"Year\"])[\"Global_Sales\"].sum()\nsns.set_theme(style=\"whitegrid\")\nplt.figure(figsize=(15,15)) \nax = sns.lineplot(data = games_temp)\nax.set_xticks(range(1980,2020))\nplt.xticks(rotation = 90)\nax.set_xlim(1980,2018)\n",
   "execution_count": 28,
   "outputs": [
    {
     "output_type": "execute_result",
     "execution_count": 28,
     "data": {
      "text/plain": "(1980.0, 2018.0)"
     },
     "metadata": {}
    },
    {
     "data": {
      "text/plain": "<Figure size 1080x1080 with 1 Axes>",
      "image/png": "[encoded data removed]"
     },
     "metadata": {
      "image/png": {
       "width": 903,
       "height": 884
      }
     },
     "output_type": "display_data"
    }
   ]
  },
  {
   "cell_type": "code",
   "metadata": {
    "collapsed": true,
    "cell_id": "00042-4753e53a-5551-440b-93ae-c663543aaf4d",
    "deepnote_to_be_reexecuted": false,
    "source_hash": "8f5e4165",
    "execution_start": 1628493543149,
    "execution_millis": 90,
    "deepnote_cell_type": "code"
   },
   "source": "games.drop(columns = [\"Rank\"]).groupby([\"Year\"]).sum()",
   "execution_count": 29,
   "outputs": [
    {
     "output_type": "execute_result",
     "execution_count": 29,
     "data": {
      "application/vnd.deepnote.dataframe.v2+json": {
       "row_count": 38,
       "column_count": 5,
       "columns": [
        {
         "name": "NA_Sales",
         "dtype": "float64",
         "stats": {
          "unique_count": 38,
          "nan_count": 0,
          "min": "0.0",
          "max": "351.2099999999991",
          "histogram": [
           {
            "bin_start": 0,
            "bin_end": 35.12099999999991,
            "count": 17
           },
           {
            "bin_start": 35.12099999999991,
            "bin_end": 70.24199999999982,
            "count": 1
           },
           {
            "bin_start": 70.24199999999982,
            "bin_end": 105.36299999999973,
            "count": 4
           },
           {
            "bin_start": 105.36299999999973,
            "bin_end": 140.48399999999964,
            "count": 3
           },
           {
            "bin_start": 140.48399999999964,
            "bin_end": 175.60499999999956,
            "count": 3
           },
           {
            "bin_start": 175.60499999999956,
            "bin_end": 210.72599999999946,
            "count": 1
           },
           {
            "bin_start": 210.72599999999946,
            "bin_end": 245.84699999999935,
            "count": 4
           },
           {
            "bin_start": 245.84699999999935,
            "bin_end": 280.9679999999993,
            "count": 1
           },
           {
            "bin_start": 280.9679999999993,
            "bin_end": 316.0889999999992,
            "count": 2
           },
           {
            "bin_start": 316.0889999999992,
            "bin_end": 351.2099999999991,
            "count": 2
           }
          ]
         }
        },
        {
         "name": "EU_Sales",
         "dtype": "float64",
         "stats": {
          "unique_count": 38,
          "nan_count": 0,
          "min": "0.0",
          "max": "191.5799999999998",
          "histogram": [
           {
            "bin_start": 0,
            "bin_end": 19.15799999999998,
            "count": 17
           },
           {
            "bin_start": 19.15799999999998,
            "bin_end": 38.31599999999996,
            "count": 1
           },
           {
            "bin_start": 38.31599999999996,
            "bin_end": 57.47399999999994,
            "count": 3
           },
           {
            "bin_start": 57.47399999999994,
            "bin_end": 76.63199999999992,
            "count": 2
           },
           {
            "bin_start": 76.63199999999992,
            "bin_end": 95.7899999999999,
            "count": 1
           },
           {
            "bin_start": 95.7899999999999,
            "bin_end": 114.94799999999988,
            "count": 4
           },
           {
            "bin_start": 114.94799999999988,
            "bin_end": 134.10599999999985,
            "count": 5
           },
           {
            "bin_start": 134.10599999999985,
            "bin_end": 153.26399999999984,
            "count": 0
           },
           {
            "bin_start": 153.26399999999984,
            "bin_end": 172.42199999999983,
            "count": 2
           },
           {
            "bin_start": 172.42199999999983,
            "bin_end": 191.5799999999998,
            "count": 3
           }
          ]
         }
        },
        {
         "name": "JP_Sales",
         "dtype": "float64",
         "stats": {
          "unique_count": 36,
          "nan_count": 0,
          "min": "0.0",
          "max": "73.70999999999998",
          "histogram": [
           {
            "bin_start": 0,
            "bin_end": 7.370999999999998,
            "count": 4
           },
           {
            "bin_start": 7.370999999999998,
            "bin_end": 14.741999999999996,
            "count": 5
           },
           {
            "bin_start": 14.741999999999996,
            "bin_end": 22.112999999999992,
            "count": 5
           },
           {
            "bin_start": 22.112999999999992,
            "bin_end": 29.48399999999999,
            "count": 2
           },
           {
            "bin_start": 29.48399999999999,
            "bin_end": 36.85499999999999,
            "count": 3
           },
           {
            "bin_start": 36.85499999999999,
            "bin_end": 44.225999999999985,
            "count": 5
           },
           {
            "bin_start": 44.225999999999985,
            "bin_end": 51.59699999999999,
            "count": 5
           },
           {
            "bin_start": 51.59699999999999,
            "bin_end": 58.96799999999998,
            "count": 5
           },
           {
            "bin_start": 58.96799999999998,
            "bin_end": 66.33899999999998,
            "count": 3
           },
           {
            "bin_start": 66.33899999999998,
            "bin_end": 73.70999999999998,
            "count": 1
           }
          ]
         }
        },
        {
         "name": "Other_Sales",
         "dtype": "float64",
         "stats": {
          "unique_count": 38,
          "nan_count": 0,
          "min": "0.0",
          "max": "82.3700000000014",
          "histogram": [
           {
            "bin_start": 0,
            "bin_end": 8.23700000000014,
            "count": 19
           },
           {
            "bin_start": 8.23700000000014,
            "bin_end": 16.47400000000028,
            "count": 4
           },
           {
            "bin_start": 16.47400000000028,
            "bin_end": 24.71100000000042,
            "count": 1
           },
           {
            "bin_start": 24.71100000000042,
            "bin_end": 32.94800000000056,
            "count": 3
           },
           {
            "bin_start": 32.94800000000056,
            "bin_end": 41.1850000000007,
            "count": 4
           },
           {
            "bin_start": 41.1850000000007,
            "bin_end": 49.42200000000084,
            "count": 1
           },
           {
            "bin_start": 49.42200000000084,
            "bin_end": 57.65900000000099,
            "count": 2
           },
           {
            "bin_start": 57.65900000000099,
            "bin_end": 65.89600000000112,
            "count": 1
           },
           {
            "bin_start": 65.89600000000112,
            "bin_end": 74.13300000000126,
            "count": 0
           },
           {
            "bin_start": 74.13300000000126,
            "bin_end": 82.3700000000014,
            "count": 3
           }
          ]
         }
        },
        {
         "name": "Global_Sales",
         "dtype": "float64",
         "stats": {
          "unique_count": 38,
          "nan_count": 0,
          "min": "0.05",
          "max": "678.5799999999952",
          "histogram": [
           {
            "bin_start": 0.05,
            "bin_end": 67.90299999999952,
            "count": 13
           },
           {
            "bin_start": 67.90299999999952,
            "bin_end": 135.75599999999906,
            "count": 5
           },
           {
            "bin_start": 135.75599999999906,
            "bin_end": 203.6089999999986,
            "count": 3
           },
           {
            "bin_start": 203.6089999999986,
            "bin_end": 271.4619999999981,
            "count": 3
           },
           {
            "bin_start": 271.4619999999981,
            "bin_end": 339.3149999999976,
            "count": 2
           },
           {
            "bin_start": 339.3149999999976,
            "bin_end": 407.16799999999716,
            "count": 4
           },
           {
            "bin_start": 407.16799999999716,
            "bin_end": 475.0209999999967,
            "count": 2
           },
           {
            "bin_start": 475.0209999999967,
            "bin_end": 542.8739999999962,
            "count": 2
           },
           {
            "bin_start": 542.8739999999962,
            "bin_end": 610.7269999999957,
            "count": 2
           },
           {
            "bin_start": 610.7269999999957,
            "bin_end": 678.5799999999952,
            "count": 2
           }
          ]
         }
        },
        {
         "name": "_deepnote_index_column",
         "dtype": "float64"
        }
       ],
       "rows_top": [
        {
         "NA_Sales": 10.590000000000003,
         "EU_Sales": 0.6700000000000002,
         "JP_Sales": 0,
         "Other_Sales": 0.11999999999999998,
         "Global_Sales": 11.379999999999999,
         "_deepnote_index_column": 1980
        },
        {
         "NA_Sales": 33.129999999999995,
         "EU_Sales": 1.9400000000000006,
         "JP_Sales": 0,
         "Other_Sales": 0.3200000000000001,
         "Global_Sales": 35.48000000000001,
         "_deepnote_index_column": 1981
        },
        {
         "NA_Sales": 26.920000000000005,
         "EU_Sales": 1.6500000000000008,
         "JP_Sales": 0,
         "Other_Sales": 0.31000000000000016,
         "Global_Sales": 28.859999999999996,
         "_deepnote_index_column": 1982
        },
        {
         "NA_Sales": 7.76,
         "EU_Sales": 0.8000000000000003,
         "JP_Sales": 8.1,
         "Other_Sales": 0.13999999999999999,
         "Global_Sales": 16.790000000000003,
         "_deepnote_index_column": 1983
        },
        {
         "NA_Sales": 33.28,
         "EU_Sales": 2.0999999999999996,
         "JP_Sales": 14.269999999999998,
         "Other_Sales": 0.7000000000000002,
         "Global_Sales": 50.360000000000014,
         "_deepnote_index_column": 1984
        },
        {
         "NA_Sales": 33.73,
         "EU_Sales": 4.74,
         "JP_Sales": 14.56,
         "Other_Sales": 0.9200000000000002,
         "Global_Sales": 53.940000000000005,
         "_deepnote_index_column": 1985
        },
        {
         "NA_Sales": 12.5,
         "EU_Sales": 2.8400000000000007,
         "JP_Sales": 19.81,
         "Other_Sales": 1.9300000000000002,
         "Global_Sales": 37.07,
         "_deepnote_index_column": 1986
        },
        {
         "NA_Sales": 8.460000000000003,
         "EU_Sales": 1.4100000000000001,
         "JP_Sales": 11.63,
         "Other_Sales": 0.20000000000000004,
         "Global_Sales": 21.739999999999995,
         "_deepnote_index_column": 1987
        },
        {
         "NA_Sales": 23.869999999999997,
         "EU_Sales": 6.590000000000001,
         "JP_Sales": 15.759999999999998,
         "Other_Sales": 0.9900000000000001,
         "Global_Sales": 47.22,
         "_deepnote_index_column": 1988
        },
        {
         "NA_Sales": 45.15,
         "EU_Sales": 8.44,
         "JP_Sales": 18.360000000000003,
         "Other_Sales": 1.5000000000000002,
         "Global_Sales": 73.45,
         "_deepnote_index_column": 1989
        },
        {
         "NA_Sales": 25.46,
         "EU_Sales": 7.629999999999998,
         "JP_Sales": 14.880000000000003,
         "Other_Sales": 1.4000000000000004,
         "Global_Sales": 49.38999999999999,
         "_deepnote_index_column": 1990
        },
        {
         "NA_Sales": 12.76,
         "EU_Sales": 3.9499999999999993,
         "JP_Sales": 14.780000000000001,
         "Other_Sales": 0.7400000000000001,
         "Global_Sales": 32.230000000000004,
         "_deepnote_index_column": 1991
        },
        {
         "NA_Sales": 33.87,
         "EU_Sales": 11.710000000000003,
         "JP_Sales": 28.91,
         "Other_Sales": 1.6500000000000004,
         "Global_Sales": 76.15999999999998,
         "_deepnote_index_column": 1992
        },
        {
         "NA_Sales": 15.120000000000001,
         "EU_Sales": 4.6499999999999995,
         "JP_Sales": 25.33000000000001,
         "Other_Sales": 0.8900000000000001,
         "Global_Sales": 45.98,
         "_deepnote_index_column": 1993
        },
        {
         "NA_Sales": 28.150000000000002,
         "EU_Sales": 14.879999999999997,
         "JP_Sales": 33.990000000000016,
         "Other_Sales": 2.199999999999999,
         "Global_Sales": 79.17000000000003,
         "_deepnote_index_column": 1994
        },
        {
         "NA_Sales": 24.82000000000001,
         "EU_Sales": 14.89999999999998,
         "JP_Sales": 45.750000000000014,
         "Other_Sales": 2.6399999999999926,
         "Global_Sales": 88.10999999999991,
         "_deepnote_index_column": 1995
        },
        {
         "NA_Sales": 86.75999999999999,
         "EU_Sales": 47.259999999999984,
         "JP_Sales": 57.43999999999997,
         "Other_Sales": 7.689999999999979,
         "Global_Sales": 199.14999999999995,
         "_deepnote_index_column": 1996
        },
        {
         "NA_Sales": 94.75000000000007,
         "EU_Sales": 48.319999999999986,
         "JP_Sales": 48.86999999999997,
         "Other_Sales": 9.129999999999978,
         "Global_Sales": 200.98000000000013,
         "_deepnote_index_column": 1997
        },
        {
         "NA_Sales": 127.89999999999996,
         "EU_Sales": 66.59000000000012,
         "JP_Sales": 50.04,
         "Other_Sales": 10.97999999999994,
         "Global_Sales": 255.64000000000016,
         "_deepnote_index_column": 1998
        },
        {
         "NA_Sales": 126.06000000000004,
         "EU_Sales": 62.67000000000003,
         "JP_Sales": 52.34,
         "Other_Sales": 10.049999999999951,
         "Global_Sales": 251.27000000000018,
         "_deepnote_index_column": 1999
        },
        {
         "NA_Sales": 94.49000000000005,
         "EU_Sales": 52.75000000000003,
         "JP_Sales": 42.770000000000046,
         "Other_Sales": 11.619999999999937,
         "Global_Sales": 201.5600000000002,
         "_deepnote_index_column": 2000
        },
        {
         "NA_Sales": 173.7000000000004,
         "EU_Sales": 93.66999999999987,
         "JP_Sales": 39.43999999999999,
         "Other_Sales": 22.420000000000183,
         "Global_Sales": 329.21999999999906,
         "_deepnote_index_column": 2001
        },
        {
         "NA_Sales": 216.1600000000001,
         "EU_Sales": 109.72000000000031,
         "JP_Sales": 41.70000000000002,
         "Other_Sales": 27.280000000000253,
         "Global_Sales": 395.4199999999983,
         "_deepnote_index_column": 2002
        },
        {
         "NA_Sales": 192.92000000000064,
         "EU_Sales": 103.5600000000003,
         "JP_Sales": 34.20000000000003,
         "Other_Sales": 25.990000000000247,
         "Global_Sales": 356.9199999999989,
         "_deepnote_index_column": 2003
        },
        {
         "NA_Sales": 218.7800000000003,
         "EU_Sales": 105.91000000000035,
         "JP_Sales": 41.64999999999999,
         "Other_Sales": 47.23999999999984,
         "Global_Sales": 413.9799999999987,
         "_deepnote_index_column": 2004
        },
        {
         "NA_Sales": 240.8400000000005,
         "EU_Sales": 121.5300000000004,
         "JP_Sales": 54.28000000000001,
         "Other_Sales": 40.429999999999815,
         "Global_Sales": 457.6199999999977,
         "_deepnote_index_column": 2005
        },
        {
         "NA_Sales": 263.0399999999989,
         "EU_Sales": 129.21999999999986,
         "JP_Sales": 73.70999999999998,
         "Other_Sales": 54.429999999999836,
         "Global_Sales": 520.9199999999918,
         "_deepnote_index_column": 2006
        },
        {
         "NA_Sales": 311.1799999999983,
         "EU_Sales": 160.1599999999997,
         "JP_Sales": 60.06000000000011,
         "Other_Sales": 77.58000000000102,
         "Global_Sales": 609.6699999999935,
         "_deepnote_index_column": 2007
        },
        {
         "NA_Sales": 351.2099999999991,
         "EU_Sales": 184.3999999999998,
         "JP_Sales": 60.18000000000002,
         "Other_Sales": 82.3700000000014,
         "Global_Sales": 678.5799999999952,
         "_deepnote_index_column": 2008
        },
        {
         "NA_Sales": 338.8499999999989,
         "EU_Sales": 191.5799999999998,
         "JP_Sales": 61.88999999999998,
         "Other_Sales": 74.77000000000145,
         "Global_Sales": 667.2799999999947,
         "_deepnote_index_column": 2009
        },
        {
         "NA_Sales": 303.50000000000006,
         "EU_Sales": 176.38000000000017,
         "JP_Sales": 58.72000000000022,
         "Other_Sales": 59.84999999999996,
         "Global_Sales": 598.4899999999951,
         "_deepnote_index_column": 2010
        },
        {
         "NA_Sales": 239.21000000000092,
         "EU_Sales": 165.98000000000016,
         "JP_Sales": 51.720000000000084,
         "Other_Sales": 54.02999999999984,
         "Global_Sales": 511.0099999999976,
         "_deepnote_index_column": 2011
        },
        {
         "NA_Sales": 154.89000000000004,
         "EU_Sales": 118.70000000000002,
         "JP_Sales": 51.520000000000124,
         "Other_Sales": 37.82,
         "Global_Sales": 363.1699999999984,
         "_deepnote_index_column": 2012
        },
        {
         "NA_Sales": 154.7700000000001,
         "EU_Sales": 125.74000000000004,
         "JP_Sales": 47.59000000000005,
         "Other_Sales": 39.82000000000001,
         "Global_Sales": 368.0499999999987,
         "_deepnote_index_column": 2013
        },
        {
         "NA_Sales": 131.75000000000017,
         "EU_Sales": 125.5200000000001,
         "JP_Sales": 39.460000000000086,
         "Other_Sales": 39.99,
         "Global_Sales": 336.64999999999856,
         "_deepnote_index_column": 2014
        },
        {
         "NA_Sales": 102.81999999999992,
         "EU_Sales": 97.65,
         "JP_Sales": 33.68000000000013,
         "Other_Sales": 30.010000000000133,
         "Global_Sales": 264.339999999998,
         "_deepnote_index_column": 2015
        },
        {
         "NA_Sales": 22.66000000000006,
         "EU_Sales": 26.760000000000066,
         "JP_Sales": 13.509999999999971,
         "Other_Sales": 7.749999999999982,
         "Global_Sales": 70.74000000000012,
         "_deepnote_index_column": 2016
        },
        {
         "NA_Sales": 0,
         "EU_Sales": 0,
         "JP_Sales": 0.05,
         "Other_Sales": 0,
         "Global_Sales": 0.05,
         "_deepnote_index_column": 2017
        }
       ],
       "rows_bottom": null
      },
      "text/plain": "        NA_Sales  EU_Sales  JP_Sales  Other_Sales  Global_Sales\nYear                                                           \n1980.0     10.59      0.67      0.00         0.12         11.38\n1981.0     33.13      1.94      0.00         0.32         35.48\n1982.0     26.92      1.65      0.00         0.31         28.86\n1983.0      7.76      0.80      8.10         0.14         16.79\n1984.0     33.28      2.10     14.27         0.70         50.36\n1985.0     33.73      4.74     14.56         0.92         53.94\n1986.0     12.50      2.84     19.81         1.93         37.07\n1987.0      8.46      1.41     11.63         0.20         21.74\n1988.0     23.87      6.59     15.76         0.99         47.22\n1989.0     45.15      8.44     18.36         1.50         73.45\n1990.0     25.46      7.63     14.88         1.40         49.39\n1991.0     12.76      3.95     14.78         0.74         32.23\n1992.0     33.87     11.71     28.91         1.65         76.16\n1993.0     15.12      4.65     25.33         0.89         45.98\n1994.0     28.15     14.88     33.99         2.20         79.17\n1995.0     24.82     14.90     45.75         2.64         88.11\n1996.0     86.76     47.26     57.44         7.69        199.15\n1997.0     94.75     48.32     48.87         9.13        200.98\n1998.0    127.90     66.59     50.04        10.98        255.64\n1999.0    126.06     62.67     52.34        10.05        251.27\n2000.0     94.49     52.75     42.77        11.62        201.56\n2001.0    173.70     93.67     39.44        22.42        329.22\n2002.0    216.16    109.72     41.70        27.28        395.42\n2003.0    192.92    103.56     34.20        25.99        356.92\n2004.0    218.78    105.91     41.65        47.24        413.98\n2005.0    240.84    121.53     54.28        40.43        457.62\n2006.0    263.04    129.22     73.71        54.43        520.92\n2007.0    311.18    160.16     60.06        77.58        609.67\n2008.0    351.21    184.40     60.18        82.37        678.58\n2009.0    338.85    191.58     61.89        74.77        667.28\n2010.0    303.50    176.38     58.72        59.85        598.49\n2011.0    239.21    165.98     51.72        54.03        511.01\n2012.0    154.89    118.70     51.52        37.82        363.17\n2013.0    154.77    125.74     47.59        39.82        368.05\n2014.0    131.75    125.52     39.46        39.99        336.65\n2015.0    102.82     97.65     33.68        30.01        264.34\n2016.0     22.66     26.76     13.51         7.75         70.74\n2017.0      0.00      0.00      0.05         0.00          0.05",
      "text/html": "<div>\n<style scoped>\n    .dataframe tbody tr th:only-of-type {\n        vertical-align: middle;\n    }\n\n    .dataframe tbody tr th {\n        vertical-align: top;\n    }\n\n    .dataframe thead th {\n        text-align: right;\n    }\n</style>\n<table border=\"1\" class=\"dataframe\">\n  <thead>\n    <tr style=\"text-align: right;\">\n      <th></th>\n      <th>NA_Sales</th>\n      <th>EU_Sales</th>\n      <th>JP_Sales</th>\n      <th>Other_Sales</th>\n      <th>Global_Sales</th>\n    </tr>\n    <tr>\n      <th>Year</th>\n      <th></th>\n      <th></th>\n      <th></th>\n      <th></th>\n      <th></th>\n    </tr>\n  </thead>\n  <tbody>\n    <tr>\n      <th>1980.0</th>\n      <td>10.59</td>\n      <td>0.67</td>\n      <td>0.00</td>\n      <td>0.12</td>\n      <td>11.38</td>\n    </tr>\n    <tr>\n      <th>1981.0</th>\n      <td>33.13</td>\n      <td>1.94</td>\n      <td>0.00</td>\n      <td>0.32</td>\n      <td>35.48</td>\n    </tr>\n    <tr>\n      <th>1982.0</th>\n      <td>26.92</td>\n      <td>1.65</td>\n      <td>0.00</td>\n      <td>0.31</td>\n      <td>28.86</td>\n    </tr>\n    <tr>\n      <th>1983.0</th>\n      <td>7.76</td>\n      <td>0.80</td>\n      <td>8.10</td>\n      <td>0.14</td>\n      <td>16.79</td>\n    </tr>\n    <tr>\n      <th>1984.0</th>\n      <td>33.28</td>\n      <td>2.10</td>\n      <td>14.27</td>\n      <td>0.70</td>\n      <td>50.36</td>\n    </tr>\n    <tr>\n      <th>1985.0</th>\n      <td>33.73</td>\n      <td>4.74</td>\n      <td>14.56</td>\n      <td>0.92</td>\n      <td>53.94</td>\n    </tr>\n    <tr>\n      <th>1986.0</th>\n      <td>12.50</td>\n      <td>2.84</td>\n      <td>19.81</td>\n      <td>1.93</td>\n      <td>37.07</td>\n    </tr>\n    <tr>\n      <th>1987.0</th>\n      <td>8.46</td>\n      <td>1.41</td>\n      <td>11.63</td>\n      <td>0.20</td>\n      <td>21.74</td>\n    </tr>\n    <tr>\n      <th>1988.0</th>\n      <td>23.87</td>\n      <td>6.59</td>\n      <td>15.76</td>\n      <td>0.99</td>\n      <td>47.22</td>\n    </tr>\n    <tr>\n      <th>1989.0</th>\n      <td>45.15</td>\n      <td>8.44</td>\n      <td>18.36</td>\n      <td>1.50</td>\n      <td>73.45</td>\n    </tr>\n    <tr>\n      <th>1990.0</th>\n      <td>25.46</td>\n      <td>7.63</td>\n      <td>14.88</td>\n      <td>1.40</td>\n      <td>49.39</td>\n    </tr>\n    <tr>\n      <th>1991.0</th>\n      <td>12.76</td>\n      <td>3.95</td>\n      <td>14.78</td>\n      <td>0.74</td>\n      <td>32.23</td>\n    </tr>\n    <tr>\n      <th>1992.0</th>\n      <td>33.87</td>\n      <td>11.71</td>\n      <td>28.91</td>\n      <td>1.65</td>\n      <td>76.16</td>\n    </tr>\n    <tr>\n      <th>1993.0</th>\n      <td>15.12</td>\n      <td>4.65</td>\n      <td>25.33</td>\n      <td>0.89</td>\n      <td>45.98</td>\n    </tr>\n    <tr>\n      <th>1994.0</th>\n      <td>28.15</td>\n      <td>14.88</td>\n      <td>33.99</td>\n      <td>2.20</td>\n      <td>79.17</td>\n    </tr>\n    <tr>\n      <th>1995.0</th>\n      <td>24.82</td>\n      <td>14.90</td>\n      <td>45.75</td>\n      <td>2.64</td>\n      <td>88.11</td>\n    </tr>\n    <tr>\n      <th>1996.0</th>\n      <td>86.76</td>\n      <td>47.26</td>\n      <td>57.44</td>\n      <td>7.69</td>\n      <td>199.15</td>\n    </tr>\n    <tr>\n      <th>1997.0</th>\n      <td>94.75</td>\n      <td>48.32</td>\n      <td>48.87</td>\n      <td>9.13</td>\n      <td>200.98</td>\n    </tr>\n    <tr>\n      <th>1998.0</th>\n      <td>127.90</td>\n      <td>66.59</td>\n      <td>50.04</td>\n      <td>10.98</td>\n      <td>255.64</td>\n    </tr>\n    <tr>\n      <th>1999.0</th>\n      <td>126.06</td>\n      <td>62.67</td>\n      <td>52.34</td>\n      <td>10.05</td>\n      <td>251.27</td>\n    </tr>\n    <tr>\n      <th>2000.0</th>\n      <td>94.49</td>\n      <td>52.75</td>\n      <td>42.77</td>\n      <td>11.62</td>\n      <td>201.56</td>\n    </tr>\n    <tr>\n      <th>2001.0</th>\n      <td>173.70</td>\n      <td>93.67</td>\n      <td>39.44</td>\n      <td>22.42</td>\n      <td>329.22</td>\n    </tr>\n    <tr>\n      <th>2002.0</th>\n      <td>216.16</td>\n      <td>109.72</td>\n      <td>41.70</td>\n      <td>27.28</td>\n      <td>395.42</td>\n    </tr>\n    <tr>\n      <th>2003.0</th>\n      <td>192.92</td>\n      <td>103.56</td>\n      <td>34.20</td>\n      <td>25.99</td>\n      <td>356.92</td>\n    </tr>\n    <tr>\n      <th>2004.0</th>\n      <td>218.78</td>\n      <td>105.91</td>\n      <td>41.65</td>\n      <td>47.24</td>\n      <td>413.98</td>\n    </tr>\n    <tr>\n      <th>2005.0</th>\n      <td>240.84</td>\n      <td>121.53</td>\n      <td>54.28</td>\n      <td>40.43</td>\n      <td>457.62</td>\n    </tr>\n    <tr>\n      <th>2006.0</th>\n      <td>263.04</td>\n      <td>129.22</td>\n      <td>73.71</td>\n      <td>54.43</td>\n      <td>520.92</td>\n    </tr>\n    <tr>\n      <th>2007.0</th>\n      <td>311.18</td>\n      <td>160.16</td>\n      <td>60.06</td>\n      <td>77.58</td>\n      <td>609.67</td>\n    </tr>\n    <tr>\n      <th>2008.0</th>\n      <td>351.21</td>\n      <td>184.40</td>\n      <td>60.18</td>\n      <td>82.37</td>\n      <td>678.58</td>\n    </tr>\n    <tr>\n      <th>2009.0</th>\n      <td>338.85</td>\n      <td>191.58</td>\n      <td>61.89</td>\n      <td>74.77</td>\n      <td>667.28</td>\n    </tr>\n    <tr>\n      <th>2010.0</th>\n      <td>303.50</td>\n      <td>176.38</td>\n      <td>58.72</td>\n      <td>59.85</td>\n      <td>598.49</td>\n    </tr>\n    <tr>\n      <th>2011.0</th>\n      <td>239.21</td>\n      <td>165.98</td>\n      <td>51.72</td>\n      <td>54.03</td>\n      <td>511.01</td>\n    </tr>\n    <tr>\n      <th>2012.0</th>\n      <td>154.89</td>\n      <td>118.70</td>\n      <td>51.52</td>\n      <td>37.82</td>\n      <td>363.17</td>\n    </tr>\n    <tr>\n      <th>2013.0</th>\n      <td>154.77</td>\n      <td>125.74</td>\n      <td>47.59</td>\n      <td>39.82</td>\n      <td>368.05</td>\n    </tr>\n    <tr>\n      <th>2014.0</th>\n      <td>131.75</td>\n      <td>125.52</td>\n      <td>39.46</td>\n      <td>39.99</td>\n      <td>336.65</td>\n    </tr>\n    <tr>\n      <th>2015.0</th>\n      <td>102.82</td>\n      <td>97.65</td>\n      <td>33.68</td>\n      <td>30.01</td>\n      <td>264.34</td>\n    </tr>\n    <tr>\n      <th>2016.0</th>\n      <td>22.66</td>\n      <td>26.76</td>\n      <td>13.51</td>\n      <td>7.75</td>\n      <td>70.74</td>\n    </tr>\n    <tr>\n      <th>2017.0</th>\n      <td>0.00</td>\n      <td>0.00</td>\n      <td>0.05</td>\n      <td>0.00</td>\n      <td>0.05</td>\n    </tr>\n  </tbody>\n</table>\n</div>"
     },
     "metadata": {}
    }
   ]
  },
  {
   "cell_type": "markdown",
   "source": "#### Analysis\nAfter further research on the spikes, most spikes are generally caused by a platform or a group of platforms that are said to be anticipated in those years. An example is at 2008, the highest peak of the graph, is when the Xbox 360,PS3, and Wii were released. Furthermore, regardless of the impact of North America in the Video Game industry, each of the specified regions, follow the trend where spikes are correlated to the release of consoles. This is seen in both regional and global sales.",
   "metadata": {
    "cell_id": "00043-26b4732b-632a-400b-8081-525e3c7b6a38",
    "deepnote_cell_type": "markdown"
   }
  },
  {
   "cell_type": "markdown",
   "source": "### Eda Question 3",
   "metadata": {
    "cell_id": "00044-f299e3c1-cce2-4c17-a2f2-5d7a1fdc6f49",
    "deepnote_cell_type": "markdown"
   }
  },
  {
   "cell_type": "code",
   "source": "genres = games[\"Genre\"].value_counts()\nlabels = [\"Action\",\"Sports\",\"Misc\",\"Role-Playing\",\n          \"Shooter\",\"Adventure\",\"Racing\",\"Platform\",\"Simulation\",\"Fighting\",\"Strategy\",\"Puzzle\" ]\n\nplt.pie(genres, labels = labels,autopct='%.0f%%',radius = 3)\nplt.show()",
   "metadata": {
    "tags": [],
    "cell_id": "00045-8d5c904b-152a-4980-9d1d-70e9a8b68e16",
    "deepnote_to_be_reexecuted": false,
    "source_hash": "b9207ad2",
    "execution_start": 1628496653913,
    "execution_millis": 749,
    "deepnote_cell_type": "code"
   },
   "outputs": [
    {
     "data": {
      "text/plain": "<Figure size 432x288 with 1 Axes>",
      "image/png": "[encoded data removed]"
     },
     "metadata": {
      "image/png": {
       "width": 688,
       "height": 593
      }
     },
     "output_type": "display_data"
    }
   ],
   "execution_count": 40
  },
  {
   "cell_type": "code",
   "source": "numerical = genres.to_frame()\npercentages = (numerical / numerical.sum()) * 100\nnumerical[\"Percent\"] = percentages\nnumerical",
   "metadata": {
    "tags": [],
    "cell_id": "00046-0c8f27d5-ed92-4642-80cc-64b7a17aad3e",
    "deepnote_to_be_reexecuted": false,
    "source_hash": "a9a87721",
    "execution_start": 1628498795689,
    "execution_millis": 18,
    "is_output_hidden": true,
    "deepnote_cell_type": "code"
   },
   "outputs": [
    {
     "output_type": "execute_result",
     "execution_count": 48,
     "data": {
      "application/vnd.deepnote.dataframe.v2+json": {
       "row_count": 12,
       "column_count": 2,
       "columns": [
        {
         "name": "Genre",
         "dtype": "int64",
         "stats": {
          "unique_count": 12,
          "nan_count": 0,
          "min": "558",
          "max": "3234",
          "histogram": [
           {
            "bin_start": 558,
            "bin_end": 825.6,
            "count": 2
           },
           {
            "bin_start": 825.6,
            "bin_end": 1093.2,
            "count": 3
           },
           {
            "bin_start": 1093.2,
            "bin_end": 1360.8000000000002,
            "count": 3
           },
           {
            "bin_start": 1360.8000000000002,
            "bin_end": 1628.4,
            "count": 1
           },
           {
            "bin_start": 1628.4,
            "bin_end": 1896,
            "count": 1
           },
           {
            "bin_start": 1896,
            "bin_end": 2163.6000000000004,
            "count": 0
           },
           {
            "bin_start": 2163.6000000000004,
            "bin_end": 2431.2000000000003,
            "count": 1
           },
           {
            "bin_start": 2431.2000000000003,
            "bin_end": 2698.8,
            "count": 0
           },
           {
            "bin_start": 2698.8,
            "bin_end": 2966.4,
            "count": 0
           },
           {
            "bin_start": 2966.4,
            "bin_end": 3234,
            "count": 1
           }
          ]
         }
        },
        {
         "name": "Percent",
         "dtype": "float64",
         "stats": {
          "unique_count": 12,
          "nan_count": 0,
          "min": "3.446571957998765",
          "max": "19.97529339098209",
          "histogram": [
           {
            "bin_start": 3.446571957998765,
            "bin_end": 5.099444101297097,
            "count": 2
           },
           {
            "bin_start": 5.099444101297097,
            "bin_end": 6.75231624459543,
            "count": 3
           },
           {
            "bin_start": 6.75231624459543,
            "bin_end": 8.405188387893762,
            "count": 3
           },
           {
            "bin_start": 8.405188387893762,
            "bin_end": 10.058060531192094,
            "count": 1
           },
           {
            "bin_start": 10.058060531192094,
            "bin_end": 11.710932674490428,
            "count": 1
           },
           {
            "bin_start": 11.710932674490428,
            "bin_end": 13.36380481778876,
            "count": 0
           },
           {
            "bin_start": 13.36380481778876,
            "bin_end": 15.016676961087093,
            "count": 1
           },
           {
            "bin_start": 15.016676961087093,
            "bin_end": 16.669549104385425,
            "count": 0
           },
           {
            "bin_start": 16.669549104385425,
            "bin_end": 18.322421247683756,
            "count": 0
           },
           {
            "bin_start": 18.322421247683756,
            "bin_end": 19.97529339098209,
            "count": 1
           }
          ]
         }
        },
        {
         "name": "_deepnote_index_column",
         "dtype": "object"
        }
       ],
       "rows_top": [
        {
         "Genre": 3234,
         "Percent": 19.97529339098209,
         "_deepnote_index_column": "Action"
        },
        {
         "Genre": 2297,
         "Percent": 14.187770228536134,
         "_deepnote_index_column": "Sports"
        },
        {
         "Genre": 1671,
         "Percent": 10.32118591723286,
         "_deepnote_index_column": "Misc"
        },
        {
         "Genre": 1457,
         "Percent": 8.999382334774552,
         "_deepnote_index_column": "Role-Playing"
        },
        {
         "Genre": 1279,
         "Percent": 7.899938233477455,
         "_deepnote_index_column": "Shooter"
        },
        {
         "Genre": 1261,
         "Percent": 7.788758492896849,
         "_deepnote_index_column": "Adventure"
        },
        {
         "Genre": 1222,
         "Percent": 7.547869054972205,
         "_deepnote_index_column": "Racing"
        },
        {
         "Genre": 870,
         "Percent": 5.373687461395924,
         "_deepnote_index_column": "Platform"
        },
        {
         "Genre": 842,
         "Percent": 5.200741198270538,
         "_deepnote_index_column": "Simulation"
        },
        {
         "Genre": 835,
         "Percent": 5.157504632489191,
         "_deepnote_index_column": "Fighting"
        },
        {
         "Genre": 664,
         "Percent": 4.101297096973441,
         "_deepnote_index_column": "Strategy"
        },
        {
         "Genre": 558,
         "Percent": 3.446571957998765,
         "_deepnote_index_column": "Puzzle"
        }
       ],
       "rows_bottom": null
      },
      "text/plain": "              Genre    Percent\nAction         3234  19.975293\nSports         2297  14.187770\nMisc           1671  10.321186\nRole-Playing   1457   8.999382\nShooter        1279   7.899938\nAdventure      1261   7.788758\nRacing         1222   7.547869\nPlatform        870   5.373687\nSimulation      842   5.200741\nFighting        835   5.157505\nStrategy        664   4.101297\nPuzzle          558   3.446572",
      "text/html": "<div>\n<style scoped>\n    .dataframe tbody tr th:only-of-type {\n        vertical-align: middle;\n    }\n\n    .dataframe tbody tr th {\n        vertical-align: top;\n    }\n\n    .dataframe thead th {\n        text-align: right;\n    }\n</style>\n<table border=\"1\" class=\"dataframe\">\n  <thead>\n    <tr style=\"text-align: right;\">\n      <th></th>\n      <th>Genre</th>\n      <th>Percent</th>\n    </tr>\n  </thead>\n  <tbody>\n    <tr>\n      <th>Action</th>\n      <td>3234</td>\n      <td>19.975293</td>\n    </tr>\n    <tr>\n      <th>Sports</th>\n      <td>2297</td>\n      <td>14.187770</td>\n    </tr>\n    <tr>\n      <th>Misc</th>\n      <td>1671</td>\n      <td>10.321186</td>\n    </tr>\n    <tr>\n      <th>Role-Playing</th>\n      <td>1457</td>\n      <td>8.999382</td>\n    </tr>\n    <tr>\n      <th>Shooter</th>\n      <td>1279</td>\n      <td>7.899938</td>\n    </tr>\n    <tr>\n      <th>Adventure</th>\n      <td>1261</td>\n      <td>7.788758</td>\n    </tr>\n    <tr>\n      <th>Racing</th>\n      <td>1222</td>\n      <td>7.547869</td>\n    </tr>\n    <tr>\n      <th>Platform</th>\n      <td>870</td>\n      <td>5.373687</td>\n    </tr>\n    <tr>\n      <th>Simulation</th>\n      <td>842</td>\n      <td>5.200741</td>\n    </tr>\n    <tr>\n      <th>Fighting</th>\n      <td>835</td>\n      <td>5.157505</td>\n    </tr>\n    <tr>\n      <th>Strategy</th>\n      <td>664</td>\n      <td>4.101297</td>\n    </tr>\n    <tr>\n      <th>Puzzle</th>\n      <td>558</td>\n      <td>3.446572</td>\n    </tr>\n  </tbody>\n</table>\n</div>"
     },
     "metadata": {}
    }
   ],
   "execution_count": 48
  },
  {
   "cell_type": "markdown",
   "source": "It appears that action takes the largest portion of the video game industry, this is not surpising considering how common the genre of actions games are. This is followed by the sports genre, this may be due to all the different titles such as the \"Nba sports\", and other world cup games.",
   "metadata": {
    "tags": [],
    "cell_id": "00050-7e01bb08-2082-4846-8a3a-ca77dedc9596",
    "deepnote_cell_type": "markdown"
   }
  },
  {
   "cell_type": "markdown",
   "source": "## Summary of EDA\n\n #### 1.What is the best performing platform of all time based on global sales?\n The best selling platform is PS2, but it having large variances in the sales, meanwhile Gameboy (GB) has the best average selling games as a platform. The large lead of PS2 in total amount of sales is due to it's large collection of games over the other platforms. Though the PS2 has the most games, not many of its games were considered a \"hit\" showing a large disparity to its best performing games and least performing games. This may be due to the hype brought by the release many developers tried to develop games for it oversaturating the market for the consumers, causing only the best of the best to stand out from the rest.\n\n#### 2. Is there a trend of global sales and regional sales throughout the years?\nAll regional sales follow the trend of global sales, having similar spikes in their graph. The spikes represent the platform(s) anticipated to be released during those years, 2008 being the highest as some of the most popular platforms were released that year. Among all the regions, North America contributes the most to global sales which may be due to the number of publishers present in the region. It's also interesting to note that Japan, despite being a country, contributes nearly as much as the Other Sales (which is represented as the rest of the world excluding,the regions part of the dataset).\n\n#### 3. What is the split in proportion of genres is the video game industry?",
   "metadata": {
    "cell_id": "00050-e7630972-6704-4a29-bb58-d90a04bdc9ca",
    "deepnote_cell_type": "markdown"
   }
  },
  {
   "cell_type": "markdown",
   "source": "## Research Questions\n1. Is there a difference of performance between the platforms of the Playstation family based on global sales? <br> \n    To see the stability of the playstation market and if there is a decline or incline in the playstation franchise.\n***\n2. Is the genre division of each platform representative of the video game's genre division as a whole? <br>\n    To see which platforms are more geared towards specific genres",
   "metadata": {
    "cell_id": "00051-6753e3fe-2f5f-4d87-b137-c16e5a171f2e",
    "deepnote_cell_type": "markdown"
   }
  },
  {
   "cell_type": "markdown",
   "source": "## Statisical Inference",
   "metadata": {
    "cell_id": "00052-82286d72-b99d-4ba4-bff1-555dfa1a95b0",
    "deepnote_cell_type": "markdown"
   }
  },
  {
   "cell_type": "markdown",
   "source": "#### Research  Question 1:\n__Null Hypothesis__: There is no difference in performance of the platforms in a single family. <br>\n__Alternative Hypothesis__: There is a difference in performance of the platorms in a single family.",
   "metadata": {
    "cell_id": "00053-0493ea43-d8c9-44bb-bcbf-2877743bb002",
    "deepnote_cell_type": "markdown"
   }
  },
  {
   "cell_type": "code",
   "metadata": {
    "collapsed": true,
    "cell_id": "00054-f37dc1ce-4734-4d36-9d9c-668c102498cb",
    "deepnote_to_be_reexecuted": false,
    "source_hash": "110235c9",
    "execution_start": 1628481492360,
    "execution_millis": 52,
    "deepnote_cell_type": "code"
   },
   "source": "psfam_summary = games.loc[games['Platform'].str.contains(\"PS\")].groupby([\"Platform\"])[\"Global_Sales\"].describe()\npsfam_summary.head(10)\n",
   "execution_count": null,
   "outputs": [
    {
     "output_type": "execute_result",
     "execution_count": 31,
     "data": {
      "application/vnd.deepnote.dataframe.v2+json": {
       "row_count": 6,
       "column_count": 8,
       "columns": [
        {
         "name": "count",
         "dtype": "float64",
         "stats": {
          "unique_count": 6,
          "nan_count": 0,
          "min": "335.0",
          "max": "2124.0",
          "histogram": [
           {
            "bin_start": 335,
            "bin_end": 513.9,
            "count": 2
           },
           {
            "bin_start": 513.9,
            "bin_end": 692.8,
            "count": 0
           },
           {
            "bin_start": 692.8,
            "bin_end": 871.7,
            "count": 0
           },
           {
            "bin_start": 871.7,
            "bin_end": 1050.6,
            "count": 0
           },
           {
            "bin_start": 1050.6,
            "bin_end": 1229.5,
            "count": 2
           },
           {
            "bin_start": 1229.5,
            "bin_end": 1408.4,
            "count": 1
           },
           {
            "bin_start": 1408.4,
            "bin_end": 1587.3,
            "count": 0
           },
           {
            "bin_start": 1587.3,
            "bin_end": 1766.2,
            "count": 0
           },
           {
            "bin_start": 1766.2,
            "bin_end": 1945.1000000000001,
            "count": 0
           },
           {
            "bin_start": 1945.1000000000001,
            "bin_end": 2124,
            "count": 1
           }
          ]
         }
        },
        {
         "name": "mean",
         "dtype": "float64",
         "stats": {
          "unique_count": 6,
          "nan_count": 0,
          "min": "0.15222772277227725",
          "max": "0.8299104477611942",
          "histogram": [
           {
            "bin_start": 0.15222772277227725,
            "bin_end": 0.21999599527116895,
            "count": 1
           },
           {
            "bin_start": 0.21999599527116895,
            "bin_end": 0.28776426777006064,
            "count": 1
           },
           {
            "bin_start": 0.28776426777006064,
            "bin_end": 0.3555325402689523,
            "count": 0
           },
           {
            "bin_start": 0.3555325402689523,
            "bin_end": 0.42330081276784404,
            "count": 0
           },
           {
            "bin_start": 0.42330081276784404,
            "bin_end": 0.49106908526673576,
            "count": 0
           },
           {
            "bin_start": 0.49106908526673576,
            "bin_end": 0.5588373577656274,
            "count": 0
           },
           {
            "bin_start": 0.5588373577656274,
            "bin_end": 0.6266056302645191,
            "count": 2
           },
           {
            "bin_start": 0.6266056302645191,
            "bin_end": 0.6943739027634108,
            "count": 0
           },
           {
            "bin_start": 0.6943739027634108,
            "bin_end": 0.7621421752623025,
            "count": 1
           },
           {
            "bin_start": 0.7621421752623025,
            "bin_end": 0.8299104477611942,
            "count": 1
           }
          ]
         }
        },
        {
         "name": "std",
         "dtype": "float64",
         "stats": {
          "unique_count": 6,
          "nan_count": 0,
          "min": "0.25473479153547657",
          "max": "1.6208697832435013",
          "histogram": [
           {
            "bin_start": 0.25473479153547657,
            "bin_end": 0.3913482907062791,
            "count": 1
           },
           {
            "bin_start": 0.3913482907062791,
            "bin_end": 0.5279617898770815,
            "count": 1
           },
           {
            "bin_start": 0.5279617898770815,
            "bin_end": 0.664575289047884,
            "count": 0
           },
           {
            "bin_start": 0.664575289047884,
            "bin_end": 0.8011887882186866,
            "count": 0
           },
           {
            "bin_start": 0.8011887882186866,
            "bin_end": 0.9378022873894889,
            "count": 0
           },
           {
            "bin_start": 0.9378022873894889,
            "bin_end": 1.0744157865602915,
            "count": 1
           },
           {
            "bin_start": 1.0744157865602915,
            "bin_end": 1.211029285731094,
            "count": 1
           },
           {
            "bin_start": 1.211029285731094,
            "bin_end": 1.3476427849018964,
            "count": 0
           },
           {
            "bin_start": 1.3476427849018964,
            "bin_end": 1.484256284072699,
            "count": 1
           },
           {
            "bin_start": 1.484256284072699,
            "bin_end": 1.6208697832435013,
            "count": 1
           }
          ]
         }
        },
        {
         "name": "min",
         "dtype": "float64",
         "stats": {
          "unique_count": 1,
          "nan_count": 0,
          "min": "0.01",
          "max": "0.01",
          "histogram": [
           {
            "bin_start": -0.49,
            "bin_end": -0.39,
            "count": 0
           },
           {
            "bin_start": -0.39,
            "bin_end": -0.29,
            "count": 0
           },
           {
            "bin_start": -0.29,
            "bin_end": -0.18999999999999995,
            "count": 0
           },
           {
            "bin_start": -0.18999999999999995,
            "bin_end": -0.08999999999999997,
            "count": 0
           },
           {
            "bin_start": -0.08999999999999997,
            "bin_end": 0.010000000000000009,
            "count": 6
           },
           {
            "bin_start": 0.010000000000000009,
            "bin_end": 0.1100000000000001,
            "count": 0
           },
           {
            "bin_start": 0.1100000000000001,
            "bin_end": 0.21000000000000008,
            "count": 0
           },
           {
            "bin_start": 0.21000000000000008,
            "bin_end": 0.31000000000000005,
            "count": 0
           },
           {
            "bin_start": 0.31000000000000005,
            "bin_end": 0.41000000000000003,
            "count": 0
           },
           {
            "bin_start": 0.41000000000000003,
            "bin_end": 0.51,
            "count": 0
           }
          ]
         }
        },
        {
         "name": "25%",
         "dtype": "float64",
         "stats": {
          "unique_count": 5,
          "nan_count": 0,
          "min": "0.03",
          "max": "0.11",
          "histogram": [
           {
            "bin_start": 0.03,
            "bin_end": 0.038,
            "count": 2
           },
           {
            "bin_start": 0.038,
            "bin_end": 0.046,
            "count": 0
           },
           {
            "bin_start": 0.046,
            "bin_end": 0.054,
            "count": 0
           },
           {
            "bin_start": 0.054,
            "bin_end": 0.062,
            "count": 1
           },
           {
            "bin_start": 0.062,
            "bin_end": 0.07,
            "count": 0
           },
           {
            "bin_start": 0.07,
            "bin_end": 0.078,
            "count": 0
           },
           {
            "bin_start": 0.078,
            "bin_end": 0.086,
            "count": 1
           },
           {
            "bin_start": 0.086,
            "bin_end": 0.094,
            "count": 0
           },
           {
            "bin_start": 0.094,
            "bin_end": 0.10200000000000001,
            "count": 0
           },
           {
            "bin_start": 0.10200000000000001,
            "bin_end": 0.11,
            "count": 2
           }
          ]
         }
        },
        {
         "name": "50%",
         "dtype": "float64",
         "stats": {
          "unique_count": 6,
          "nan_count": 0,
          "min": "0.06",
          "max": "0.29",
          "histogram": [
           {
            "bin_start": 0.06,
            "bin_end": 0.08299999999999999,
            "count": 1
           },
           {
            "bin_start": 0.08299999999999999,
            "bin_end": 0.106,
            "count": 1
           },
           {
            "bin_start": 0.106,
            "bin_end": 0.129,
            "count": 0
           },
           {
            "bin_start": 0.129,
            "bin_end": 0.152,
            "count": 0
           },
           {
            "bin_start": 0.152,
            "bin_end": 0.175,
            "count": 0
           },
           {
            "bin_start": 0.175,
            "bin_end": 0.198,
            "count": 0
           },
           {
            "bin_start": 0.198,
            "bin_end": 0.221,
            "count": 1
           },
           {
            "bin_start": 0.221,
            "bin_end": 0.244,
            "count": 1
           },
           {
            "bin_start": 0.244,
            "bin_end": 0.267,
            "count": 1
           },
           {
            "bin_start": 0.267,
            "bin_end": 0.29,
            "count": 1
           }
          ]
         }
        },
        {
         "name": "75%",
         "dtype": "float64",
         "stats": {
          "unique_count": 6,
          "nan_count": 0,
          "min": "0.1625",
          "max": "0.82",
          "histogram": [
           {
            "bin_start": 0.1625,
            "bin_end": 0.22825,
            "count": 1
           },
           {
            "bin_start": 0.22825,
            "bin_end": 0.29400000000000004,
            "count": 1
           },
           {
            "bin_start": 0.29400000000000004,
            "bin_end": 0.35975,
            "count": 0
           },
           {
            "bin_start": 0.35975,
            "bin_end": 0.4255,
            "count": 0
           },
           {
            "bin_start": 0.4255,
            "bin_end": 0.49124999999999996,
            "count": 0
           },
           {
            "bin_start": 0.49124999999999996,
            "bin_end": 0.557,
            "count": 0
           },
           {
            "bin_start": 0.557,
            "bin_end": 0.62275,
            "count": 1
           },
           {
            "bin_start": 0.62275,
            "bin_end": 0.6885,
            "count": 1
           },
           {
            "bin_start": 0.6885,
            "bin_end": 0.75425,
            "count": 0
           },
           {
            "bin_start": 0.75425,
            "bin_end": 0.82,
            "count": 2
           }
          ]
         }
        },
        {
         "name": "max",
         "dtype": "float64",
         "stats": {
          "unique_count": 6,
          "nan_count": 0,
          "min": "2.25",
          "max": "21.4",
          "histogram": [
           {
            "bin_start": 2.25,
            "bin_end": 4.165,
            "count": 1
           },
           {
            "bin_start": 4.165,
            "bin_end": 6.08,
            "count": 0
           },
           {
            "bin_start": 6.08,
            "bin_end": 7.994999999999999,
            "count": 1
           },
           {
            "bin_start": 7.994999999999999,
            "bin_end": 9.91,
            "count": 0
           },
           {
            "bin_start": 9.91,
            "bin_end": 11.825,
            "count": 1
           },
           {
            "bin_start": 11.825,
            "bin_end": 13.739999999999998,
            "count": 0
           },
           {
            "bin_start": 13.739999999999998,
            "bin_end": 15.655,
            "count": 1
           },
           {
            "bin_start": 15.655,
            "bin_end": 17.57,
            "count": 0
           },
           {
            "bin_start": 17.57,
            "bin_end": 19.485,
            "count": 0
           },
           {
            "bin_start": 19.485,
            "bin_end": 21.4,
            "count": 2
           }
          ]
         }
        },
        {
         "name": "_deepnote_index_column",
         "dtype": "object"
        }
       ],
       "rows_top": [
        {
         "count": 1187,
         "mean": 0.6119797809604044,
         "std": 1.0577814319459373,
         "min": 0.01,
         "25%": 0.10500000000000001,
         "50%": 0.26,
         "75%": 0.66,
         "max": 10.95,
         "_deepnote_index_column": "PS"
        },
        {
         "count": 2124,
         "mean": 0.5794209039548023,
         "std": 1.1389535792271852,
         "min": 0.01,
         "25%": 0.08,
         "50%": 0.23,
         "75%": 0.56,
         "max": 20.81,
         "_deepnote_index_column": "PS2"
        },
        {
         "count": 1294,
         "mean": 0.7326197836166924,
         "std": 1.4288297254487732,
         "min": 0.01,
         "25%": 0.11,
         "50%": 0.29,
         "75%": 0.7975000000000001,
         "max": 21.4,
         "_deepnote_index_column": "PS3"
        },
        {
         "count": 335,
         "mean": 0.8299104477611942,
         "std": 1.6208697832435013,
         "min": 0.01,
         "25%": 0.06,
         "50%": 0.22,
         "75%": 0.82,
         "max": 14.24,
         "_deepnote_index_column": "PS4"
        },
        {
         "count": 1190,
         "mean": 0.24352941176470588,
         "std": 0.5252064966723433,
         "min": 0.01,
         "25%": 0.03,
         "50%": 0.09,
         "75%": 0.23,
         "max": 7.72,
         "_deepnote_index_column": "PSP"
        },
        {
         "count": 404,
         "mean": 0.15222772277227725,
         "std": 0.25473479153547657,
         "min": 0.01,
         "25%": 0.03,
         "50%": 0.06,
         "75%": 0.1625,
         "max": 2.25,
         "_deepnote_index_column": "PSV"
        }
       ],
       "rows_bottom": null
      },
      "text/plain": "           count      mean       std   min    25%   50%     75%    max\nPlatform                                                              \nPS        1187.0  0.611980  1.057781  0.01  0.105  0.26  0.6600  10.95\nPS2       2124.0  0.579421  1.138954  0.01  0.080  0.23  0.5600  20.81\nPS3       1294.0  0.732620  1.428830  0.01  0.110  0.29  0.7975  21.40\nPS4        335.0  0.829910  1.620870  0.01  0.060  0.22  0.8200  14.24\nPSP       1190.0  0.243529  0.525206  0.01  0.030  0.09  0.2300   7.72\nPSV        404.0  0.152228  0.254735  0.01  0.030  0.06  0.1625   2.25",
      "text/html": "<div>\n<style scoped>\n    .dataframe tbody tr th:only-of-type {\n        vertical-align: middle;\n    }\n\n    .dataframe tbody tr th {\n        vertical-align: top;\n    }\n\n    .dataframe thead th {\n        text-align: right;\n    }\n</style>\n<table border=\"1\" class=\"dataframe\">\n  <thead>\n    <tr style=\"text-align: right;\">\n      <th></th>\n      <th>count</th>\n      <th>mean</th>\n      <th>std</th>\n      <th>min</th>\n      <th>25%</th>\n      <th>50%</th>\n      <th>75%</th>\n      <th>max</th>\n    </tr>\n    <tr>\n      <th>Platform</th>\n      <th></th>\n      <th></th>\n      <th></th>\n      <th></th>\n      <th></th>\n      <th></th>\n      <th></th>\n      <th></th>\n    </tr>\n  </thead>\n  <tbody>\n    <tr>\n      <th>PS</th>\n      <td>1187.0</td>\n      <td>0.611980</td>\n      <td>1.057781</td>\n      <td>0.01</td>\n      <td>0.105</td>\n      <td>0.26</td>\n      <td>0.6600</td>\n      <td>10.95</td>\n    </tr>\n    <tr>\n      <th>PS2</th>\n      <td>2124.0</td>\n      <td>0.579421</td>\n      <td>1.138954</td>\n      <td>0.01</td>\n      <td>0.080</td>\n      <td>0.23</td>\n      <td>0.5600</td>\n      <td>20.81</td>\n    </tr>\n    <tr>\n      <th>PS3</th>\n      <td>1294.0</td>\n      <td>0.732620</td>\n      <td>1.428830</td>\n      <td>0.01</td>\n      <td>0.110</td>\n      <td>0.29</td>\n      <td>0.7975</td>\n      <td>21.40</td>\n    </tr>\n    <tr>\n      <th>PS4</th>\n      <td>335.0</td>\n      <td>0.829910</td>\n      <td>1.620870</td>\n      <td>0.01</td>\n      <td>0.060</td>\n      <td>0.22</td>\n      <td>0.8200</td>\n      <td>14.24</td>\n    </tr>\n    <tr>\n      <th>PSP</th>\n      <td>1190.0</td>\n      <td>0.243529</td>\n      <td>0.525206</td>\n      <td>0.01</td>\n      <td>0.030</td>\n      <td>0.09</td>\n      <td>0.2300</td>\n      <td>7.72</td>\n    </tr>\n    <tr>\n      <th>PSV</th>\n      <td>404.0</td>\n      <td>0.152228</td>\n      <td>0.254735</td>\n      <td>0.01</td>\n      <td>0.030</td>\n      <td>0.06</td>\n      <td>0.1625</td>\n      <td>2.25</td>\n    </tr>\n  </tbody>\n</table>\n</div>"
     },
     "metadata": {}
    }
   ]
  },
  {
   "cell_type": "markdown",
   "source": "First, We need to get the F-Distribution",
   "metadata": {
    "cell_id": "00055-4c5f27fc-fda9-4727-bf0a-66ca1f0beaa8",
    "deepnote_cell_type": "markdown"
   }
  },
  {
   "cell_type": "code",
   "metadata": {
    "scrolled": true,
    "cell_id": "00056-d1865106-15ac-45a6-a585-5aeaf10befde",
    "deepnote_to_be_reexecuted": true,
    "source_hash": "27254d6c",
    "deepnote_cell_type": "code"
   },
   "source": "psfam[\"count\"].sum()\nSSG = 0\nSST = 0\npsfam_mean = (games.loc[games['Platform'].str.contains(\"PS\")].groupby([\"Platform\"])['Global_Sales'].mean()).mean()\n\nfor ( cur_idx,cur_row) in psfam.iterrows():\n        SSG += (cur_row[\"count\"] * (cur_row[\"mean\"] - psfam_mean) **2)\nprint(SSG)",
   "execution_count": null,
   "outputs": [
    {
     "name": "stdout",
     "output_type": "stream",
     "text": "252.6238682648726\n"
    }
   ]
  },
  {
   "cell_type": "code",
   "metadata": {
    "cell_id": "00057-4abf6f5b-ce4e-47a7-ab40-d6c9e5193c3b",
    "deepnote_to_be_reexecuted": true,
    "source_hash": "9b2ab01c",
    "deepnote_cell_type": "code"
   },
   "source": "psfam_sales = games.loc[games['Platform'].str.contains(\"PS\")][\"Global_Sales\"]\nSST = 0\nfor (cur_idx,cur_row) in psfam_sales.iteritems():\n    SST += (cur_row - psfam_mean)**2\nprint(SST)",
   "execution_count": null,
   "outputs": [
    {
     "name": "stdout",
     "output_type": "stream",
     "text": "8204.9765912585\n0.5249480084716793\n"
    }
   ]
  },
  {
   "cell_type": "code",
   "metadata": {
    "cell_id": "00058-7a73afcd-fdb5-44b6-a155-533bed06ef4e",
    "deepnote_to_be_reexecuted": true,
    "source_hash": "6fcd1fef",
    "deepnote_cell_type": "code"
   },
   "source": "MSG = SSG/ (psfam_summary.shape[0] -1)\nprint(MSG)",
   "execution_count": null,
   "outputs": [
    {
     "name": "stdout",
     "output_type": "stream",
     "text": "50.524773652974524\n"
    }
   ]
  },
  {
   "cell_type": "code",
   "metadata": {
    "cell_id": "00059-2a479380-b4a0-4bc1-baea-a0c0cf32eec5",
    "deepnote_to_be_reexecuted": true,
    "source_hash": "176ac653",
    "deepnote_cell_type": "code"
   },
   "source": "MSE = (SST - SSG)/ (psfam_sales.shape[0] - psfam_summary.shape[0])\nprint(\"MSE: {:.5f}\".format(MSE))\n\n## F Statistic\nF = MSG/MSE\nprint(\"F Statistic: {:.5f}\".format(F))",
   "execution_count": null,
   "outputs": [
    {
     "name": "stdout",
     "output_type": "stream",
     "text": "MSE: 1.21819\nF Statistic: 41.47524\n"
    }
   ]
  },
  {
   "cell_type": "markdown",
   "source": "Using this [P-Value Calculator](https://www.socscistatistics.com/pvalues/fdistribution.aspx) the p-value that was obtained is 0.00001.",
   "metadata": {
    "cell_id": "00060-6baed774-ba4a-469f-a47f-e9cd0ecc6fca",
    "deepnote_cell_type": "markdown"
   }
  },
  {
   "cell_type": "markdown",
   "source": "### Research Question 2:\n__Null Hypothesis__: The platforms are representative of the video game industry as a whole.<br>\n__Alternative Hypothesis__: The platforms are not representative of the video game industry as a whole.",
   "metadata": {
    "cell_id": "00061-0ebe728a-1ceb-41b7-8268-8aa39fa176ec",
    "deepnote_cell_type": "markdown"
   }
  },
  {
   "cell_type": "code",
   "metadata": {
    "scrolled": false,
    "cell_id": "00062-343ad560-2652-4e0b-9ed2-1992e09cf05c",
    "deepnote_to_be_reexecuted": true,
    "source_hash": "b158e7f0",
    "deepnote_cell_type": "code"
   },
   "source": "df_g_genre = games.groupby([\"Genre\"])[\"Platform\"].value_counts()\ndf_g_genre = df_g_genre.unstack()\ndf_g_genre = df_g_genre.fillna(0)\n\n#df_g_genre = df_g_genre.append(games[\"Platform\"].value_counts())\ndf_g_genre",
   "execution_count": null,
   "outputs": [
    {
     "data": {
      "text/html": "<div>\n<style scoped>\n    .dataframe tbody tr th:only-of-type {\n        vertical-align: middle;\n    }\n\n    .dataframe tbody tr th {\n        vertical-align: top;\n    }\n\n    .dataframe thead th {\n        text-align: right;\n    }\n</style>\n<table border=\"1\" class=\"dataframe\">\n  <thead>\n    <tr style=\"text-align: right;\">\n      <th>Platform</th>\n      <th>2600</th>\n      <th>3DO</th>\n      <th>3DS</th>\n      <th>DC</th>\n      <th>DS</th>\n      <th>GB</th>\n      <th>GBA</th>\n      <th>GC</th>\n      <th>GEN</th>\n      <th>GG</th>\n      <th>...</th>\n      <th>SAT</th>\n      <th>SCD</th>\n      <th>SNES</th>\n      <th>TG16</th>\n      <th>WS</th>\n      <th>Wii</th>\n      <th>WiiU</th>\n      <th>X360</th>\n      <th>XB</th>\n      <th>XOne</th>\n    </tr>\n    <tr>\n      <th>Genre</th>\n      <th></th>\n      <th></th>\n      <th></th>\n      <th></th>\n      <th></th>\n      <th></th>\n      <th></th>\n      <th></th>\n      <th></th>\n      <th></th>\n      <th></th>\n      <th></th>\n      <th></th>\n      <th></th>\n      <th></th>\n      <th></th>\n      <th></th>\n      <th></th>\n      <th></th>\n      <th></th>\n      <th></th>\n    </tr>\n  </thead>\n  <tbody>\n    <tr>\n      <th>Action</th>\n      <td>54.0</td>\n      <td>0.0</td>\n      <td>176.0</td>\n      <td>3.0</td>\n      <td>334.0</td>\n      <td>6.0</td>\n      <td>161.0</td>\n      <td>98.0</td>\n      <td>3.0</td>\n      <td>0.0</td>\n      <td>...</td>\n      <td>3.0</td>\n      <td>0.0</td>\n      <td>12.0</td>\n      <td>0.0</td>\n      <td>0.0</td>\n      <td>229.0</td>\n      <td>63.0</td>\n      <td>317.0</td>\n      <td>152.0</td>\n      <td>68.0</td>\n    </tr>\n    <tr>\n      <th>Adventure</th>\n      <td>1.0</td>\n      <td>1.0</td>\n      <td>35.0</td>\n      <td>11.0</td>\n      <td>233.0</td>\n      <td>5.0</td>\n      <td>36.0</td>\n      <td>20.0</td>\n      <td>2.0</td>\n      <td>0.0</td>\n      <td>...</td>\n      <td>26.0</td>\n      <td>0.0</td>\n      <td>4.0</td>\n      <td>1.0</td>\n      <td>0.0</td>\n      <td>82.0</td>\n      <td>3.0</td>\n      <td>47.0</td>\n      <td>26.0</td>\n      <td>12.0</td>\n    </tr>\n    <tr>\n      <th>Fighting</th>\n      <td>1.0</td>\n      <td>0.0</td>\n      <td>14.0</td>\n      <td>12.0</td>\n      <td>36.0</td>\n      <td>0.0</td>\n      <td>23.0</td>\n      <td>42.0</td>\n      <td>5.0</td>\n      <td>0.0</td>\n      <td>...</td>\n      <td>31.0</td>\n      <td>0.0</td>\n      <td>25.0</td>\n      <td>0.0</td>\n      <td>0.0</td>\n      <td>41.0</td>\n      <td>5.0</td>\n      <td>65.0</td>\n      <td>44.0</td>\n      <td>7.0</td>\n    </tr>\n    <tr>\n      <th>Misc</th>\n      <td>5.0</td>\n      <td>0.0</td>\n      <td>53.0</td>\n      <td>0.0</td>\n      <td>385.0</td>\n      <td>8.0</td>\n      <td>86.0</td>\n      <td>35.0</td>\n      <td>1.0</td>\n      <td>0.0</td>\n      <td>...</td>\n      <td>15.0</td>\n      <td>2.0</td>\n      <td>17.0</td>\n      <td>0.0</td>\n      <td>0.0</td>\n      <td>269.0</td>\n      <td>21.0</td>\n      <td>120.0</td>\n      <td>45.0</td>\n      <td>15.0</td>\n    </tr>\n    <tr>\n      <th>Platform</th>\n      <td>9.0</td>\n      <td>0.0</td>\n      <td>28.0</td>\n      <td>2.0</td>\n      <td>88.0</td>\n      <td>18.0</td>\n      <td>138.0</td>\n      <td>73.0</td>\n      <td>7.0</td>\n      <td>1.0</td>\n      <td>...</td>\n      <td>5.0</td>\n      <td>1.0</td>\n      <td>26.0</td>\n      <td>0.0</td>\n      <td>0.0</td>\n      <td>56.0</td>\n      <td>16.0</td>\n      <td>24.0</td>\n      <td>49.0</td>\n      <td>4.0</td>\n    </tr>\n    <tr>\n      <th>Puzzle</th>\n      <td>8.0</td>\n      <td>1.0</td>\n      <td>19.0</td>\n      <td>0.0</td>\n      <td>230.0</td>\n      <td>15.0</td>\n      <td>36.0</td>\n      <td>12.0</td>\n      <td>0.0</td>\n      <td>0.0</td>\n      <td>...</td>\n      <td>5.0</td>\n      <td>0.0</td>\n      <td>13.0</td>\n      <td>0.0</td>\n      <td>0.0</td>\n      <td>54.0</td>\n      <td>4.0</td>\n      <td>6.0</td>\n      <td>7.0</td>\n      <td>0.0</td>\n    </tr>\n    <tr>\n      <th>Racing</th>\n      <td>4.0</td>\n      <td>0.0</td>\n      <td>10.0</td>\n      <td>6.0</td>\n      <td>66.0</td>\n      <td>2.0</td>\n      <td>64.0</td>\n      <td>60.0</td>\n      <td>1.0</td>\n      <td>0.0</td>\n      <td>...</td>\n      <td>8.0</td>\n      <td>1.0</td>\n      <td>9.0</td>\n      <td>0.0</td>\n      <td>0.0</td>\n      <td>91.0</td>\n      <td>3.0</td>\n      <td>102.0</td>\n      <td>122.0</td>\n      <td>19.0</td>\n    </tr>\n    <tr>\n      <th>Role-Playing</th>\n      <td>0.0</td>\n      <td>0.0</td>\n      <td>85.0</td>\n      <td>4.0</td>\n      <td>193.0</td>\n      <td>21.0</td>\n      <td>73.0</td>\n      <td>24.0</td>\n      <td>3.0</td>\n      <td>0.0</td>\n      <td>...</td>\n      <td>17.0</td>\n      <td>1.0</td>\n      <td>50.0</td>\n      <td>0.0</td>\n      <td>4.0</td>\n      <td>35.0</td>\n      <td>6.0</td>\n      <td>74.0</td>\n      <td>23.0</td>\n      <td>13.0</td>\n    </tr>\n    <tr>\n      <th>Shooter</th>\n      <td>22.0</td>\n      <td>0.0</td>\n      <td>6.0</td>\n      <td>3.0</td>\n      <td>42.0</td>\n      <td>1.0</td>\n      <td>40.0</td>\n      <td>48.0</td>\n      <td>1.0</td>\n      <td>0.0</td>\n      <td>...</td>\n      <td>22.0</td>\n      <td>0.0</td>\n      <td>10.0</td>\n      <td>1.0</td>\n      <td>0.0</td>\n      <td>59.0</td>\n      <td>10.0</td>\n      <td>197.0</td>\n      <td>124.0</td>\n      <td>33.0</td>\n    </tr>\n    <tr>\n      <th>Simulation</th>\n      <td>1.0</td>\n      <td>1.0</td>\n      <td>28.0</td>\n      <td>1.0</td>\n      <td>278.0</td>\n      <td>5.0</td>\n      <td>18.0</td>\n      <td>12.0</td>\n      <td>0.0</td>\n      <td>0.0</td>\n      <td>...</td>\n      <td>7.0</td>\n      <td>0.0</td>\n      <td>9.0</td>\n      <td>0.0</td>\n      <td>0.0</td>\n      <td>84.0</td>\n      <td>1.0</td>\n      <td>36.0</td>\n      <td>24.0</td>\n      <td>3.0</td>\n    </tr>\n    <tr>\n      <th>Sports</th>\n      <td>10.0</td>\n      <td>0.0</td>\n      <td>25.0</td>\n      <td>10.0</td>\n      <td>146.0</td>\n      <td>9.0</td>\n      <td>87.0</td>\n      <td>106.0</td>\n      <td>3.0</td>\n      <td>0.0</td>\n      <td>...</td>\n      <td>16.0</td>\n      <td>0.0</td>\n      <td>49.0</td>\n      <td>0.0</td>\n      <td>0.0</td>\n      <td>253.0</td>\n      <td>8.0</td>\n      <td>215.0</td>\n      <td>166.0</td>\n      <td>35.0</td>\n    </tr>\n    <tr>\n      <th>Strategy</th>\n      <td>0.0</td>\n      <td>0.0</td>\n      <td>15.0</td>\n      <td>0.0</td>\n      <td>77.0</td>\n      <td>7.0</td>\n      <td>18.0</td>\n      <td>11.0</td>\n      <td>1.0</td>\n      <td>0.0</td>\n      <td>...</td>\n      <td>18.0</td>\n      <td>1.0</td>\n      <td>15.0</td>\n      <td>0.0</td>\n      <td>2.0</td>\n      <td>25.0</td>\n      <td>3.0</td>\n      <td>27.0</td>\n      <td>21.0</td>\n      <td>3.0</td>\n    </tr>\n  </tbody>\n</table>\n<p>12 rows × 31 columns</p>\n</div>",
      "text/plain": "Platform      2600  3DO    3DS    DC     DS    GB    GBA     GC  GEN   GG  \\\nGenre                                                                       \nAction        54.0  0.0  176.0   3.0  334.0   6.0  161.0   98.0  3.0  0.0   \nAdventure      1.0  1.0   35.0  11.0  233.0   5.0   36.0   20.0  2.0  0.0   \nFighting       1.0  0.0   14.0  12.0   36.0   0.0   23.0   42.0  5.0  0.0   \nMisc           5.0  0.0   53.0   0.0  385.0   8.0   86.0   35.0  1.0  0.0   \nPlatform       9.0  0.0   28.0   2.0   88.0  18.0  138.0   73.0  7.0  1.0   \nPuzzle         8.0  1.0   19.0   0.0  230.0  15.0   36.0   12.0  0.0  0.0   \nRacing         4.0  0.0   10.0   6.0   66.0   2.0   64.0   60.0  1.0  0.0   \nRole-Playing   0.0  0.0   85.0   4.0  193.0  21.0   73.0   24.0  3.0  0.0   \nShooter       22.0  0.0    6.0   3.0   42.0   1.0   40.0   48.0  1.0  0.0   \nSimulation     1.0  1.0   28.0   1.0  278.0   5.0   18.0   12.0  0.0  0.0   \nSports        10.0  0.0   25.0  10.0  146.0   9.0   87.0  106.0  3.0  0.0   \nStrategy       0.0  0.0   15.0   0.0   77.0   7.0   18.0   11.0  1.0  0.0   \n\nPlatform      ...   SAT  SCD  SNES  TG16   WS    Wii  WiiU   X360     XB  XOne  \nGenre         ...                                                               \nAction        ...   3.0  0.0  12.0   0.0  0.0  229.0  63.0  317.0  152.0  68.0  \nAdventure     ...  26.0  0.0   4.0   1.0  0.0   82.0   3.0   47.0   26.0  12.0  \nFighting      ...  31.0  0.0  25.0   0.0  0.0   41.0   5.0   65.0   44.0   7.0  \nMisc          ...  15.0  2.0  17.0   0.0  0.0  269.0  21.0  120.0   45.0  15.0  \nPlatform      ...   5.0  1.0  26.0   0.0  0.0   56.0  16.0   24.0   49.0   4.0  \nPuzzle        ...   5.0  0.0  13.0   0.0  0.0   54.0   4.0    6.0    7.0   0.0  \nRacing        ...   8.0  1.0   9.0   0.0  0.0   91.0   3.0  102.0  122.0  19.0  \nRole-Playing  ...  17.0  1.0  50.0   0.0  4.0   35.0   6.0   74.0   23.0  13.0  \nShooter       ...  22.0  0.0  10.0   1.0  0.0   59.0  10.0  197.0  124.0  33.0  \nSimulation    ...   7.0  0.0   9.0   0.0  0.0   84.0   1.0   36.0   24.0   3.0  \nSports        ...  16.0  0.0  49.0   0.0  0.0  253.0   8.0  215.0  166.0  35.0  \nStrategy      ...  18.0  1.0  15.0   0.0  2.0   25.0   3.0   27.0   21.0   3.0  \n\n[12 rows x 31 columns]"
     },
     "execution_count": 339,
     "metadata": {},
     "output_type": "execute_result"
    }
   ]
  },
  {
   "cell_type": "code",
   "metadata": {
    "cell_id": "00063-d615f542-57ad-4833-b4d3-17a327bdfae3",
    "deepnote_to_be_reexecuted": true,
    "source_hash": "4a2edc26",
    "deepnote_cell_type": "code"
   },
   "source": "df_total = df_g_genre.sum(axis=0)##total of each platform\ndf_exp_prop = (df_g_genre.sum(axis=1) /games.shape[0] )",
   "execution_count": null,
   "outputs": []
  },
  {
   "cell_type": "code",
   "metadata": {
    "cell_id": "00064-9d0cd409-745c-485c-8d69-b3e561a8ceee",
    "deepnote_to_be_reexecuted": true,
    "source_hash": "3abbc8e0",
    "deepnote_cell_type": "code"
   },
   "source": "chx = 0\n\nfor (cur_idx , cur_row) in df_g_genre.iterrows():\n    for( cur_col, cur_val) in cur_row.items():\n        chx += ((cur_val - df_total[cur_col] * df_exp_prop[cur_idx])** 2)/ games.shape[0]\nprint(chx)",
   "execution_count": null,
   "outputs": [
    {
     "name": "stdout",
     "output_type": "stream",
     "text": "26.14588186211564\n"
    }
   ]
  },
  {
   "cell_type": "markdown",
   "source": "Using this [calculator](https://www.socscistatistics.com/pvalues/chidistribution.aspx) a p-value of 1 was obtained. This may be due to the large degree of freedom that the dataset holds.",
   "metadata": {
    "tags": [],
    "cell_id": "00067-740d7a95-3147-495f-b662-8eb762943808",
    "deepnote_cell_type": "markdown"
   }
  },
  {
   "cell_type": "markdown",
   "source": "## Insights and Conclusions\n\nThe data provides strong evidence that there is a difference in the performances of the playstation franchise at a siginifance level of 1%, 5% and 10%. This shows that throughout the years the playstation franchise may have\nThe data also provides strong evidence that the platforms are representative of the video game industry as a whole. This shows, while each platform has advantages over other platforms in certain genres such as a shooting game on a pc, or racing for any couch console, this does not stop the developers from creating games to less ergonomic environment and would usually tend to make up for the disadvantage through in-game assistance.\n",
   "metadata": {
    "cell_id": "00066-79a5ef0a-d7b2-445f-8ad6-cc72b2fe0790",
    "deepnote_cell_type": "markdown"
   }
  },
  {
   "cell_type": "markdown",
   "source": "",
   "metadata": {
    "tags": [],
    "cell_id": "00063-cc209f10-7bc0-4825-b3fc-3b8f19ae458c",
    "deepnote_cell_type": "markdown"
   }
  },
  {
   "cell_type": "markdown",
   "source": "",
   "metadata": {
    "tags": [],
    "cell_id": "00064-7201c96a-5bf4-4dfb-ab8e-c97b8b41f86f",
    "deepnote_cell_type": "markdown"
   }
  },
  {
   "cell_type": "markdown",
   "source": "<a style='text-decoration:none;line-height:16px;display:flex;color:#5B5B62;padding:10px;justify-content:end;' href='https://deepnote.com?utm_source=created-in-deepnote-cell&projectId=f77a54ea-b9f1-4391-911c-b8ee367ec1e1' target=\"_blank\">\n<img alt='Created in deepnote.com' style='display:inline;max-height:16px;margin:0px;margin-right:7.5px;' src='data:image/svg+xml;base64,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' > </img>\nCreated in <span style='font-weight:600;margin-left:4px;'>Deepnote</span></a>",
   "metadata": {
    "tags": [],
    "created_in_deepnote_cell": true,
    "deepnote_cell_type": "markdown"
   }
  }
 ],
 "nbformat": 4,
 "nbformat_minor": 5,
 "metadata": {
  "kernelspec": {
   "display_name": "Python 3",
   "language": "python",
   "name": "python3"
  },
  "language_info": {
   "codemirror_mode": {
    "name": "ipython",
    "version": 3
   },
   "file_extension": ".py",
   "mimetype": "text/x-python",
   "name": "python",
   "nbconvert_exporter": "python",
   "pygments_lexer": "ipython3",
   "version": "3.9.4"
  },
  "deepnote_notebook_id": "6206fd0f-3a10-487a-a721-d3cb384c4d04",
  "deepnote": {},
  "deepnote_execution_queue": []
 }
}